{
 "cells": [
  {
   "cell_type": "markdown",
   "metadata": {
    "render": false
   },
   "source": [
    "# Finding optimal locations of new stores\n",
    "\n",
    "This tutorial includes everything you need to set up IBM Decision Optimization CPLEX Modeling for Python (DOcplex), build a Mathematical Programming model, and get its solution by solving the model on the cloud with IBM ILOG CPLEX Optimizer.\n",
    "\n",
    "When you finish this tutorial, you'll have a foundational knowledge of _Prescriptive Analytics_.\n",
    "\n",
    ">This notebook is part of [Prescriptive Analytics for Python](https://rawgit.com/IBMDecisionOptimization/docplex-doc/master/docs/index.html).\n",
    "\n",
    ">It requires a valid subscription to **Decision Optimization on Cloud**. Try it for free [here](https://developer.ibm.com/docloud).\n",
    "\n",
    "This notebook runs on Python 2 with Spark 2.0.\n",
    "\n",
    "Table of contents:\n",
    "\n",
    "-  [Describe the business problem](#Describe-the-business-problem)\n",
    "*  [How decision optimization (prescriptive analytics) can help](#How--decision-optimization-can-help)\n",
    "*  [Use decision optimization](#Use-decision-optimization)\n",
    "    *  [Step 1: Download the library](#Step-1:-Download-the-library)\n",
    "    *  [Step 2: Set up the engines](#Step-2:-Set-up-the-prescriptive-engine)\n",
    "    -  [Step 3: Model the data](#Step-3:-Model-the-data)\n",
    "    *  [Step 4: Prepare the data](#Step-4:-Prepare-the-data)\n",
    "    -  [Step 5: Set up the prescriptive model](#Step-5:-Set-up-the-prescriptive-model)\n",
    "        * [Define the decision variables](#Define-the-decision-variables)\n",
    "        * [Express the business constraints](#Express-the-business-constraints)\n",
    "        * [Express the objective](#Express-the-objective)\n",
    "        * [Solve with the Decision Optimization solve service](#Solve-with-the-Decision-Optimization-solve-service)\n",
    "    *  [Step 6: Investigate the solution and run an example analysis](#Step-6:-Investigate-the-solution-and-then-run-an-example-analysis)\n",
    "*  [Summary](#Summary)\n",
    "\n",
    "****"
   ]
  },
  {
   "cell_type": "markdown",
   "metadata": {
    "render": false
   },
   "source": [
    "## Describe the business problem\n",
    "\n",
    "* A fictional Coffee Company plans to open N shops in the near future and needs to determine where they should be located knowing the following:\n",
    "    * Most of the customers of this coffee brewer enjoy reading and borrowing books, so the goal is to locate those shops in such a way that all the city public libraries are within minimal walking distance.\n",
    "* We use [Chicago open data](https://data.cityofchicago.org) for this example.\n",
    "* We implement a [K-Median model](https://en.wikipedia.org/wiki/K-medians_clustering) to get the optimal location of our future shops."
   ]
  },
  {
   "cell_type": "markdown",
   "metadata": {
    "render": false
   },
   "source": [
    "## How  decision optimization can help\n",
    "\n",
    "* Prescriptive analytics (decision optimization) technology recommends actions that are based on desired outcomes.  It takes into account specific scenarios, resources, and knowledge of past and current events. With this insight, your organization can make better decisions and have greater control of business outcomes.  \n",
    "\n",
    "* Prescriptive analytics is the next step on the path to insight-based actions. It creates value through synergy with predictive analytics, which analyzes data to predict future outcomes.  \n",
    "\n",
    "* Prescriptive analytics takes that insight to the next level by suggesting the optimal way to handle that future situation. Organizations that can act fast in dynamic conditions and make superior decisions in uncertain environments gain a strong competitive advantage.  \n",
    "<br/>\n",
    "\n",
    "<u>With prescriptive analytics, you can:</u> \n",
    "\n",
    "* Automate the complex decisions and trade-offs to better manage your limited resources.\n",
    "* Take advantage of a future opportunity or mitigate a future risk.\n",
    "* Proactively update recommendations based on changing events.\n",
    "* Meet operational goals, increase customer loyalty, prevent threats and fraud, and optimize business processes."
   ]
  },
  {
   "cell_type": "markdown",
   "metadata": {},
   "source": [
    "## Use decision optimization"
   ]
  },
  {
   "cell_type": "markdown",
   "metadata": {},
   "source": [
    "### Step 1: Download the library\n",
    "\n",
    "Run the following code to install the Decision Optimization CPLEX Modeling library.  The *DOcplex* library contains the two modeling packages, Mathematical Programming and Constraint Programming, referred to earlier."
   ]
  },
  {
   "cell_type": "code",
   "execution_count": 1,
   "metadata": {},
   "outputs": [
    {
     "name": "stdout",
     "output_type": "stream",
     "text": [
      "Collecting docplex\n",
      "  Downloading docplex-2.2.36.tar.gz (379kB)\n",
      "\u001b[K    100% |████████████████████████████████| 389kB 2.0MB/s eta 0:00:01\n",
      "\u001b[?25hRequirement already satisfied: requests in /usr/local/src/bluemix_jupyter_bundle.v57/notebook/lib/python2.7/site-packages (from docplex)\n",
      "Requirement already satisfied: six in /usr/local/src/bluemix_jupyter_bundle.v57/notebook/lib/python2.7/site-packages (from docplex)\n",
      "Collecting docloud>=1.0.257 (from docplex)\n",
      "  Downloading docloud-1.0.257.tar.gz\n",
      "Requirement already satisfied: futures in /usr/local/src/bluemix_jupyter_bundle.v57/notebook/lib/python2.7/site-packages (from docplex)\n",
      "Requirement already satisfied: enum34 in /usr/local/src/bluemix_jupyter_bundle.v57/notebook/lib/python2.7/site-packages (from docloud>=1.0.257->docplex)\n",
      "Building wheels for collected packages: docplex, docloud\n",
      "  Running setup.py bdist_wheel for docplex ... \u001b[?25ldone\n",
      "\u001b[?25h  Stored in directory: /gpfs/fs01/user/scc8-d44aeb3f7d9dd3-674d31d66b72/.cache/pip/wheels/fb/15/0d/26d50c89b67503858116bcbd9e470c060c54a4a1fda6977686\n",
      "  Running setup.py bdist_wheel for docloud ... \u001b[?25ldone\n",
      "\u001b[?25h  Stored in directory: /gpfs/fs01/user/scc8-d44aeb3f7d9dd3-674d31d66b72/.cache/pip/wheels/44/6a/64/6dd62d3d93b8d07d1bb79f054e8d28b38930f6fb5deb2f28dd\n",
      "Successfully built docplex docloud\n",
      "Installing collected packages: docloud, docplex\n",
      "Successfully installed docloud-1.0.257 docplex-2.2.36\n"
     ]
    }
   ],
   "source": [
    "import sys\n",
    "try:\n",
    "    import docplex.mp\n",
    "except:\n",
    "    if hasattr(sys, 'real_prefix'):\n",
    "        #we are in a virtual env.\n",
    "        !pip install docplex\n",
    "    else:\n",
    "        !pip install --user docplex"
   ]
  },
  {
   "cell_type": "markdown",
   "metadata": {},
   "source": [
    "<i>Note that the more global package docplex contains another subpackage docplex.cp that is dedicated to Constraint Programming, another branch of optimization.</i>"
   ]
  },
  {
   "cell_type": "markdown",
   "metadata": {},
   "source": [
    "### Step 2: Set up the prescriptive engine\n",
    "\n",
    "* Subscribe to the [Decision Optimization on Cloud solve service](https://developer.ibm.com/docloud).\n",
    "* Get the service URL and your personal API key, and enter your credentials here:"
   ]
  },
  {
   "cell_type": "code",
   "execution_count": 3,
   "metadata": {},
   "outputs": [],
   "source": [
    "### once you have the bluemix subscription of decision optimization, you can get following credentials as well\n",
    "url = \"https://api-oaas.docloud.ibmcloud.com/job_manager/rest/v1\" #ENTER YOUR URL HERE\n",
    "key = \"bm_api_ext_83df0284-bba2-429f-866c-03d8a1ecc3fd\" #ENTER YOUR KEY or CLEINT ID HERE"
   ]
  },
  {
   "cell_type": "markdown",
   "metadata": {
    "render": false
   },
   "source": [
    "### Step 3: Model the data\n",
    "\n",
    "- The data for this problem is quite simple: it is composed of the list of public libraries and their geographical locations.\n",
    "- The data is acquired from [Chicago open data](https://data.cityofchicago.org) as a JSON file, which is in the following format:\n",
    "<code>\n",
    "data\" : [ [ 1, \"13BFA4C7-78CE-4D83-B53D-B57C60B701CF\", 1, 1441918880, \"885709\", 1441918880, \"885709\", null, \"Albany Park\", \"M, W: 10AM-6PM;  TU, TH: 12PM-8PM; F, SA: 9AM-5PM; SU: Closed\", \"Yes\", \"Yes \", \"3401 W. Foster Avenue\", \"CHICAGO\", \"IL\", \"60625\", \"(773) 539-5450\", [ \"http://www.chipublib.org/locations/1/\", null ], [ null, \"41.975456\", \"-87.71409\", null, false ] ]\n",
    "</code>\n",
    "This code snippet represents library \"**3401 W. Foster Avenue**\" located at **41.975456, -87.71409**\n"
   ]
  },
  {
   "cell_type": "markdown",
   "metadata": {
    "render": false
   },
   "source": [
    "### Step 4: Prepare the data\n",
    "We need to collect the list of public libraries locations and keep their names, latitudes, and longitudes."
   ]
  },
  {
   "cell_type": "code",
   "execution_count": 4,
   "metadata": {},
   "outputs": [],
   "source": [
    "# Store longitude, latitude and street crossing name of each public library location.\n",
    "class XPoint(object):\n",
    "    def __init__(self, x, y):\n",
    "        self.x = x\n",
    "        self.y = y\n",
    "    def __str__(self):\n",
    "        return \"P(%g_%g)\" % (self.x, self.y)\n",
    "\n",
    "class NamedPoint(XPoint):\n",
    "    def __init__(self, name, x, y):\n",
    "        XPoint.__init__(self, x, y)\n",
    "        self.name = name\n",
    "    def __str__(self):\n",
    "        return self.name"
   ]
  },
  {
   "cell_type": "markdown",
   "metadata": {
    "render": false
   },
   "source": [
    "#### Define how to compute the earth distance between 2 points\n",
    "To easily compute distance between 2 points, we use the Python package [geopy](https://pypi.python.org/pypi/geopy)"
   ]
  },
  {
   "cell_type": "code",
   "execution_count": 5,
   "metadata": {},
   "outputs": [],
   "source": [
    "try:\n",
    "    import geopy.distance\n",
    "except:\n",
    "    if hasattr(sys, 'real_prefix'):\n",
    "        #we are in a virtual env.\n",
    "        !pip install geopy \n",
    "    else:\n",
    "        !pip install --user geopy"
   ]
  },
  {
   "cell_type": "code",
   "execution_count": 6,
   "metadata": {},
   "outputs": [],
   "source": [
    "# Simple distance computation between 2 locations.\n",
    "from geopy.distance import great_circle\n",
    " \n",
    "def get_distance(p1, p2):\n",
    "    return great_circle((p1.y, p1.x), (p2.y, p2.x)).miles"
   ]
  },
  {
   "cell_type": "markdown",
   "metadata": {
    "render": false
   },
   "source": [
    "#### Declare the list of libraries\n",
    "Parse the JSON file to get the list of libraries and store them as Python elements."
   ]
  },
  {
   "cell_type": "code",
   "execution_count": null,
   "metadata": {
    "render": false
   },
   "outputs": [],
   "source": [
    "def build_libraries_from_url(url, name_pos, lat_long_pos):\n",
    "    import requests\n",
    "    import json\n",
    "\n",
    "    r = requests.get(url)\n",
    "    myjson = json.loads(r.text, parse_constant='utf-8')\n",
    "    myjson = myjson['data']\n",
    "\n",
    "    libraries = []\n",
    "    k = 1\n",
    "    for location in myjson:\n",
    "        uname = location[name_pos]\n",
    "        try:\n",
    "            latitude = float(location[lat_long_pos][1])\n",
    "            longitude = float(location[lat_long_pos][2])\n",
    "        except TypeError:\n",
    "            latitude = longitude = None\n",
    "        try:\n",
    "            name = str(uname)\n",
    "        except:\n",
    "            name = \"???\"\n",
    "        name = \"P_%s_%d\" % (name, k)\n",
    "        if latitude and longitude:\n",
    "            cp = NamedPoint(name, longitude, latitude)\n",
    "            libraries.append(cp)\n",
    "            k += 1\n",
    "    return libraries"
   ]
  },
  {
   "cell_type": "code",
   "execution_count": 8,
   "metadata": {},
   "outputs": [],
   "source": [
    "libraries = build_libraries_from_url('https://data.cityofchicago.org/api/views/x8fc-8rcq/rows.json?accessType=DOWNLOAD',\n",
    "                                   name_pos=12,\n",
    "                                   lat_long_pos=18)"
   ]
  },
  {
   "cell_type": "code",
   "execution_count": 9,
   "metadata": {
    "render": false
   },
   "outputs": [
    {
     "name": "stdout",
     "output_type": "stream",
     "text": [
      "There are 80 public libraries in Chicago\n"
     ]
    }
   ],
   "source": [
    "print(\"There are %d public libraries in Chicago\" % (len(libraries)))"
   ]
  },
  {
   "cell_type": "markdown",
   "metadata": {},
   "source": [
    "#### Define number of shops to open\n",
    "Create a constant that indicates how many coffee shops we would like to open."
   ]
  },
  {
   "cell_type": "code",
   "execution_count": 10,
   "metadata": {
    "render": false
   },
   "outputs": [
    {
     "name": "stdout",
     "output_type": "stream",
     "text": [
      "We would like to open 5 coffee shops\n"
     ]
    }
   ],
   "source": [
    "nb_shops = 5\n",
    "print(\"We would like to open %d coffee shops\" % nb_shops)"
   ]
  },
  {
   "cell_type": "markdown",
   "metadata": {
    "render": false
   },
   "source": [
    "#### Validate the data by displaying them\n",
    "We will use the [folium](https://folium.readthedocs.org/en/latest/quickstart.html#getting-started) library to display a map with markers."
   ]
  },
  {
   "cell_type": "code",
   "execution_count": 11,
   "metadata": {},
   "outputs": [
    {
     "name": "stdout",
     "output_type": "stream",
     "text": [
      "Collecting folium\n",
      "  Downloading folium-0.3.0-py2-none-any.whl (71kB)\n",
      "\u001b[K    100% |████████████████████████████████| 71kB 2.7MB/s ta 0:00:011\n",
      "\u001b[?25hRequirement already satisfied: six in /usr/local/src/bluemix_jupyter_bundle.v57/notebook/lib/python2.7/site-packages (from folium)\n",
      "Requirement already satisfied: Jinja2 in /usr/local/src/bluemix_jupyter_bundle.v57/notebook/lib/python2.7/site-packages (from folium)\n",
      "Collecting branca (from folium)\n",
      "  Downloading branca-0.2.0-py2-none-any.whl\n",
      "Requirement already satisfied: MarkupSafe in /usr/local/src/bluemix_jupyter_bundle.v57/notebook/lib/python2.7/site-packages (from Jinja2->folium)\n",
      "Installing collected packages: branca, folium\n",
      "Successfully installed branca-0.2.0 folium-0.3.0\n"
     ]
    }
   ],
   "source": [
    "try:\n",
    "    import folium\n",
    "except:\n",
    "    if hasattr(sys, 'real_prefix'):\n",
    "        #we are in a virtual env.\n",
    "        !pip install folium \n",
    "    else:\n",
    "        !pip install --user folium"
   ]
  },
  {
   "cell_type": "code",
   "execution_count": 12,
   "metadata": {
    "scrolled": true
   },
   "outputs": [
    {
     "data": {
      "text/html": [
       "<div style=\"width:100%;\"><div style=\"position:relative;width:100%;height:0;padding-bottom:60%;\"><iframe src=\"data:text/html;charset=utf-8;base64,PCFET0NUWVBFIGh0bWw+CjxoZWFkPiAgICAKICAgIDxtZXRhIGh0dHAtZXF1aXY9ImNvbnRlbnQtdHlwZSIgY29udGVudD0idGV4dC9odG1sOyBjaGFyc2V0PVVURi04IiAvPgogICAgPHNjcmlwdD5MX1BSRUZFUl9DQU5WQVMgPSBmYWxzZTsgTF9OT19UT1VDSCA9IGZhbHNlOyBMX0RJU0FCTEVfM0QgPSBmYWxzZTs8L3NjcmlwdD4KICAgIDxzY3JpcHQgc3JjPSJodHRwczovL3VucGtnLmNvbS9sZWFmbGV0QDEuMC4xL2Rpc3QvbGVhZmxldC5qcyI+PC9zY3JpcHQ+CiAgICA8c2NyaXB0IHNyYz0iaHR0cHM6Ly9hamF4Lmdvb2dsZWFwaXMuY29tL2FqYXgvbGlicy9qcXVlcnkvMS4xMS4xL2pxdWVyeS5taW4uanMiPjwvc2NyaXB0PgogICAgPHNjcmlwdCBzcmM9Imh0dHBzOi8vbWF4Y2RuLmJvb3RzdHJhcGNkbi5jb20vYm9vdHN0cmFwLzMuMi4wL2pzL2Jvb3RzdHJhcC5taW4uanMiPjwvc2NyaXB0PgogICAgPHNjcmlwdCBzcmM9Imh0dHBzOi8vY2RuanMuY2xvdWRmbGFyZS5jb20vYWpheC9saWJzL0xlYWZsZXQuYXdlc29tZS1tYXJrZXJzLzIuMC4yL2xlYWZsZXQuYXdlc29tZS1tYXJrZXJzLmpzIj48L3NjcmlwdD4KICAgIDxzY3JpcHQgc3JjPSJodHRwczovL2NkbmpzLmNsb3VkZmxhcmUuY29tL2FqYXgvbGlicy9sZWFmbGV0Lm1hcmtlcmNsdXN0ZXIvMS4wLjAvbGVhZmxldC5tYXJrZXJjbHVzdGVyLXNyYy5qcyI+PC9zY3JpcHQ+CiAgICA8c2NyaXB0IHNyYz0iaHR0cHM6Ly9jZG5qcy5jbG91ZGZsYXJlLmNvbS9hamF4L2xpYnMvbGVhZmxldC5tYXJrZXJjbHVzdGVyLzEuMC4wL2xlYWZsZXQubWFya2VyY2x1c3Rlci5qcyI+PC9zY3JpcHQ+CiAgICA8bGluayByZWw9InN0eWxlc2hlZXQiIGhyZWY9Imh0dHBzOi8vdW5wa2cuY29tL2xlYWZsZXRAMS4wLjEvZGlzdC9sZWFmbGV0LmNzcyIgLz4KICAgIDxsaW5rIHJlbD0ic3R5bGVzaGVldCIgaHJlZj0iaHR0cHM6Ly9tYXhjZG4uYm9vdHN0cmFwY2RuLmNvbS9ib290c3RyYXAvMy4yLjAvY3NzL2Jvb3RzdHJhcC5taW4uY3NzIiAvPgogICAgPGxpbmsgcmVsPSJzdHlsZXNoZWV0IiBocmVmPSJodHRwczovL21heGNkbi5ib290c3RyYXBjZG4uY29tL2Jvb3RzdHJhcC8zLjIuMC9jc3MvYm9vdHN0cmFwLXRoZW1lLm1pbi5jc3MiIC8+CiAgICA8bGluayByZWw9InN0eWxlc2hlZXQiIGhyZWY9Imh0dHBzOi8vbWF4Y2RuLmJvb3RzdHJhcGNkbi5jb20vZm9udC1hd2Vzb21lLzQuNi4zL2Nzcy9mb250LWF3ZXNvbWUubWluLmNzcyIgLz4KICAgIDxsaW5rIHJlbD0ic3R5bGVzaGVldCIgaHJlZj0iaHR0cHM6Ly9jZG5qcy5jbG91ZGZsYXJlLmNvbS9hamF4L2xpYnMvTGVhZmxldC5hd2Vzb21lLW1hcmtlcnMvMi4wLjIvbGVhZmxldC5hd2Vzb21lLW1hcmtlcnMuY3NzIiAvPgogICAgPGxpbmsgcmVsPSJzdHlsZXNoZWV0IiBocmVmPSJodHRwczovL2NkbmpzLmNsb3VkZmxhcmUuY29tL2FqYXgvbGlicy9sZWFmbGV0Lm1hcmtlcmNsdXN0ZXIvMS4wLjAvTWFya2VyQ2x1c3Rlci5EZWZhdWx0LmNzcyIgLz4KICAgIDxsaW5rIHJlbD0ic3R5bGVzaGVldCIgaHJlZj0iaHR0cHM6Ly9jZG5qcy5jbG91ZGZsYXJlLmNvbS9hamF4L2xpYnMvbGVhZmxldC5tYXJrZXJjbHVzdGVyLzEuMC4wL01hcmtlckNsdXN0ZXIuY3NzIiAvPgogICAgPGxpbmsgcmVsPSJzdHlsZXNoZWV0IiBocmVmPSJodHRwczovL3Jhd2dpdC5jb20vcHl0aG9uLXZpc3VhbGl6YXRpb24vZm9saXVtL21hc3Rlci9mb2xpdW0vdGVtcGxhdGVzL2xlYWZsZXQuYXdlc29tZS5yb3RhdGUuY3NzIiAvPgogICAgPHN0eWxlPmh0bWwsIGJvZHkge3dpZHRoOiAxMDAlO2hlaWdodDogMTAwJTttYXJnaW46IDA7cGFkZGluZzogMDt9PC9zdHlsZT4KICAgIDxzdHlsZT4jbWFwIHtwb3NpdGlvbjphYnNvbHV0ZTt0b3A6MDtib3R0b206MDtyaWdodDowO2xlZnQ6MDt9PC9zdHlsZT4KICAgIAogICAgICAgICAgICA8c3R5bGU+ICNtYXBfYjUwOThjZTg5YjQyNGIyOWFhMmI0MjQwMjM1MGUzZWIgewogICAgICAgICAgICAgICAgcG9zaXRpb24gOiByZWxhdGl2ZTsKICAgICAgICAgICAgICAgIHdpZHRoIDogMTAwLjAlOwogICAgICAgICAgICAgICAgaGVpZ2h0OiAxMDAuMCU7CiAgICAgICAgICAgICAgICBsZWZ0OiAwLjAlOwogICAgICAgICAgICAgICAgdG9wOiAwLjAlOwogICAgICAgICAgICAgICAgfQogICAgICAgICAgICA8L3N0eWxlPgogICAgICAgIAo8L2hlYWQ+Cjxib2R5PiAgICAKICAgIAogICAgICAgICAgICA8ZGl2IGNsYXNzPSJmb2xpdW0tbWFwIiBpZD0ibWFwX2I1MDk4Y2U4OWI0MjRiMjlhYTJiNDI0MDIzNTBlM2ViIiA+PC9kaXY+CiAgICAgICAgCjwvYm9keT4KPHNjcmlwdD4gICAgCiAgICAKCiAgICAgICAgICAgIAogICAgICAgICAgICAgICAgdmFyIHNvdXRoV2VzdCA9IEwubGF0TG5nKC05MCwgLTE4MCk7CiAgICAgICAgICAgICAgICB2YXIgbm9ydGhFYXN0ID0gTC5sYXRMbmcoOTAsIDE4MCk7CiAgICAgICAgICAgICAgICB2YXIgYm91bmRzID0gTC5sYXRMbmdCb3VuZHMoc291dGhXZXN0LCBub3J0aEVhc3QpOwogICAgICAgICAgICAKCiAgICAgICAgICAgIHZhciBtYXBfYjUwOThjZTg5YjQyNGIyOWFhMmI0MjQwMjM1MGUzZWIgPSBMLm1hcCgKICAgICAgICAgICAgICAgICAgICAgICAgICAgICAgICAgICdtYXBfYjUwOThjZTg5YjQyNGIyOWFhMmI0MjQwMjM1MGUzZWInLAogICAgICAgICAgICAgICAgICAgICAgICAgICAgICAgICAge2NlbnRlcjogWzQxLjg3OCwtODcuNjI5XSwKICAgICAgICAgICAgICAgICAgICAgICAgICAgICAgICAgIHpvb206IDExLAogICAgICAgICAgICAgICAgICAgICAgICAgICAgICAgICAgbWF4Qm91bmRzOiBib3VuZHMsCiAgICAgICAgICAgICAgICAgICAgICAgICAgICAgICAgICBsYXllcnM6IFtdLAogICAgICAgICAgICAgICAgICAgICAgICAgICAgICAgICAgd29ybGRDb3B5SnVtcDogZmFsc2UsCiAgICAgICAgICAgICAgICAgICAgICAgICAgICAgICAgICBjcnM6IEwuQ1JTLkVQU0czODU3CiAgICAgICAgICAgICAgICAgICAgICAgICAgICAgICAgIH0pOwogICAgICAgICAgICAKICAgICAgICAKICAgIAogICAgICAgICAgICB2YXIgdGlsZV9sYXllcl9kZDhhOWJjYjI4ZTM0OTZjODgzMTdlOTQ0NWJhNTYwZSA9IEwudGlsZUxheWVyKAogICAgICAgICAgICAgICAgJ2h0dHBzOi8ve3N9LnRpbGUub3BlbnN0cmVldG1hcC5vcmcve3p9L3t4fS97eX0ucG5nJywKICAgICAgICAgICAgICAgIHsKICAgICAgICAgICAgICAgICAgICBtYXhab29tOiAxOCwKICAgICAgICAgICAgICAgICAgICBtaW5ab29tOiAxLAogICAgICAgICAgICAgICAgICAgIGNvbnRpbnVvdXNXb3JsZDogZmFsc2UsCiAgICAgICAgICAgICAgICAgICAgbm9XcmFwOiBmYWxzZSwKICAgICAgICAgICAgICAgICAgICBhdHRyaWJ1dGlvbjogJ0RhdGEgYnkgPGEgaHJlZj0iaHR0cDovL29wZW5zdHJlZXRtYXAub3JnIj5PcGVuU3RyZWV0TWFwPC9hPiwgdW5kZXIgPGEgaHJlZj0iaHR0cDovL3d3dy5vcGVuc3RyZWV0bWFwLm9yZy9jb3B5cmlnaHQiPk9EYkw8L2E+LicsCiAgICAgICAgICAgICAgICAgICAgZGV0ZWN0UmV0aW5hOiBmYWxzZQogICAgICAgICAgICAgICAgICAgIH0KICAgICAgICAgICAgICAgICkuYWRkVG8obWFwX2I1MDk4Y2U4OWI0MjRiMjlhYTJiNDI0MDIzNTBlM2ViKTsKCiAgICAgICAgCiAgICAKCiAgICAgICAgICAgIHZhciBtYXJrZXJfZDBhNzY3MGVhMWY3NDA4YTgzMDdkZmI1MWNhOTk2NWYgPSBMLm1hcmtlcigKICAgICAgICAgICAgICAgIFs0MS45NzU0NTYsLTg3LjcxNDA5XSwKICAgICAgICAgICAgICAgIHsKICAgICAgICAgICAgICAgICAgICBpY29uOiBuZXcgTC5JY29uLkRlZmF1bHQoKQogICAgICAgICAgICAgICAgICAgIH0KICAgICAgICAgICAgICAgICkKICAgICAgICAgICAgICAgIC5hZGRUbyhtYXBfYjUwOThjZTg5YjQyNGIyOWFhMmI0MjQwMjM1MGUzZWIpOwogICAgICAgICAgICAKICAgIAoKICAgICAgICAgICAgdmFyIG1hcmtlcl9kZjA1ODlhYmVhZjc0NDQ4YmFiNWYyODY5NDBhOTE0NCA9IEwubWFya2VyKAogICAgICAgICAgICAgICAgWzQxLjY1NDczMDIxODQsLTg3LjYwMjIzMDI2MV0sCiAgICAgICAgICAgICAgICB7CiAgICAgICAgICAgICAgICAgICAgaWNvbjogbmV3IEwuSWNvbi5EZWZhdWx0KCkKICAgICAgICAgICAgICAgICAgICB9CiAgICAgICAgICAgICAgICApCiAgICAgICAgICAgICAgICAuYWRkVG8obWFwX2I1MDk4Y2U4OWI0MjRiMjlhYTJiNDI0MDIzNTBlM2ViKTsKICAgICAgICAgICAgCiAgICAKCiAgICAgICAgICAgIHZhciBtYXJrZXJfZWIwOWVhMjAwNTJlNDk3ZGEyNzczZTEyODY0ZDljNjkgPSBMLm1hcmtlcigKICAgICAgICAgICAgICAgIFs0MS44MDEyMTM2NTk5LC04Ny43MjY0OTA3MTQzXSwKICAgICAgICAgICAgICAgIHsKICAgICAgICAgICAgICAgICAgICBpY29uOiBuZXcgTC5JY29uLkRlZmF1bHQoKQogICAgICAgICAgICAgICAgICAgIH0KICAgICAgICAgICAgICAgICkKICAgICAgICAgICAgICAgIC5hZGRUbyhtYXBfYjUwOThjZTg5YjQyNGIyOWFhMmI0MjQwMjM1MGUzZWIpOwogICAgICAgICAgICAKICAgIAoKICAgICAgICAgICAgdmFyIG1hcmtlcl82NDg5MWFlNDY1OTc0OGFiOTM3NTRlODg5M2UxMzhiZCA9IEwubWFya2VyKAogICAgICAgICAgICAgICAgWzQxLjg4OTI3MjE1MzUsLTg3Ljc2NTcxMTg2NzJdLAogICAgICAgICAgICAgICAgewogICAgICAgICAgICAgICAgICAgIGljb246IG5ldyBMLkljb24uRGVmYXVsdCgpCiAgICAgICAgICAgICAgICAgICAgfQogICAgICAgICAgICAgICAgKQogICAgICAgICAgICAgICAgLmFkZFRvKG1hcF9iNTA5OGNlODliNDI0YjI5YWEyYjQyNDAyMzUwZTNlYik7CiAgICAgICAgICAgIAogICAgCgogICAgICAgICAgICB2YXIgbWFya2VyXzRkMGFhY2VlYTIyODQxMWZiMWZlOTg4MDEzZDM5ZjhjID0gTC5tYXJrZXIoCiAgICAgICAgICAgICAgICBbNDEuOTUzMTczOTAwNiwtODcuNzc5Mzg2ODIwN10sCiAgICAgICAgICAgICAgICB7CiAgICAgICAgICAgICAgICAgICAgaWNvbjogbmV3IEwuSWNvbi5EZWZhdWx0KCkKICAgICAgICAgICAgICAgICAgICB9CiAgICAgICAgICAgICAgICApCiAgICAgICAgICAgICAgICAuYWRkVG8obWFwX2I1MDk4Y2U4OWI0MjRiMjlhYTJiNDI0MDIzNTBlM2ViKTsKICAgICAgICAgICAgCiAgICAKCiAgICAgICAgICAgIHZhciBtYXJrZXJfYjY0Y2QzZTc4OWZjNGM0MzgzZjQ4YjNkOGZhMGNjNDEgPSBMLm1hcmtlcigKICAgICAgICAgICAgICAgIFs0MS43NDY3MTcyMjE2LC04Ny41ODUzOTY1ODcyXSwKICAgICAgICAgICAgICAgIHsKICAgICAgICAgICAgICAgICAgICBpY29uOiBuZXcgTC5JY29uLkRlZmF1bHQoKQogICAgICAgICAgICAgICAgICAgIH0KICAgICAgICAgICAgICAgICkKICAgICAgICAgICAgICAgIC5hZGRUbyhtYXBfYjUwOThjZTg5YjQyNGIyOWFhMmI0MjQwMjM1MGUzZWIpOwogICAgICAgICAgICAKICAgIAoKICAgICAgICAgICAgdmFyIG1hcmtlcl9hMjdjZDAyZGIxMGY0YjZiYjFjMjZiMWUxNjk3NDc5NSA9IEwubWFya2VyKAogICAgICAgICAgICAgICAgWzQxLjgwODM4NDQyMzcsLTg3LjY3NzU2OTYzODddLAogICAgICAgICAgICAgICAgewogICAgICAgICAgICAgICAgICAgIGljb246IG5ldyBMLkljb24uRGVmYXVsdCgpCiAgICAgICAgICAgICAgICAgICAgfQogICAgICAgICAgICAgICAgKQogICAgICAgICAgICAgICAgLmFkZFRvKG1hcF9iNTA5OGNlODliNDI0YjI5YWEyYjQyNDAyMzUwZTNlYik7CiAgICAgICAgICAgIAogICAgCgogICAgICAgICAgICB2YXIgbWFya2VyXzZiNWIxOTgyNDMxYTRlMzlhNGRhODE1ZWE2Yjk1YzJiID0gTC5tYXJrZXIoCiAgICAgICAgICAgICAgICBbNDEuNzIxMTgwNTA1NSwtODcuNjcxOTQ2NDYxNF0sCiAgICAgICAgICAgICAgICB7CiAgICAgICAgICAgICAgICAgICAgaWNvbjogbmV3IEwuSWNvbi5EZWZhdWx0KCkKICAgICAgICAgICAgICAgICAgICB9CiAgICAgICAgICAgICAgICApCiAgICAgICAgICAgICAgICAuYWRkVG8obWFwX2I1MDk4Y2U4OWI0MjRiMjlhYTJiNDI0MDIzNTBlM2ViKTsKICAgICAgICAgICAgCiAgICAKCiAgICAgICAgICAgIHZhciBtYXJrZXJfNWZjMWNhMTY3Yzg0NDA4YmEwOWFlMDA1OWQ1MWUyODIgPSBMLm1hcmtlcigKICAgICAgICAgICAgICAgIFs0MS45NzE2ODE5NDgsLTg3LjY2MDczMDI3MjJdLAogICAgICAgICAgICAgICAgewogICAgICAgICAgICAgICAgICAgIGljb246IG5ldyBMLkljb24uRGVmYXVsdCgpCiAgICAgICAgICAgICAgICAgICAgfQogICAgICAgICAgICAgICAgKQogICAgICAgICAgICAgICAgLmFkZFRvKG1hcF9iNTA5OGNlODliNDI0YjI5YWEyYjQyNDAyMzUwZTNlYik7CiAgICAgICAgICAgIAogICAgCgogICAgICAgICAgICB2YXIgbWFya2VyX2JlM2E2MzNjZDk1ODRmOGZhM2RhZDZiMzVlMjQ5OTAwID0gTC5tYXJrZXIoCiAgICAgICAgICAgICAgICBbNDEuODA1ODQwMzA5OSwtODcuNTg5MzQxODIyMV0sCiAgICAgICAgICAgICAgICB7CiAgICAgICAgICAgICAgICAgICAgaWNvbjogbmV3IEwuSWNvbi5EZWZhdWx0KCkKICAgICAgICAgICAgICAgICAgICB9CiAgICAgICAgICAgICAgICApCiAgICAgICAgICAgICAgICAuYWRkVG8obWFwX2I1MDk4Y2U4OWI0MjRiMjlhYTJiNDI0MDIzNTBlM2ViKTsKICAgICAgICAgICAgCiAgICAKCiAgICAgICAgICAgIHZhciBtYXJrZXJfMTVhMTUwOTRlZWE2NDE2YWEyMjc0YTgyMjU5NzAzMjQgPSBMLm1hcmtlcigKICAgICAgICAgICAgICAgIFs0MS43MzIzMTY3NTcxLC04Ny42NTcyMzQ1MTU4XSwKICAgICAgICAgICAgICAgIHsKICAgICAgICAgICAgICAgICAgICBpY29uOiBuZXcgTC5JY29uLkRlZmF1bHQoKQogICAgICAgICAgICAgICAgICAgIH0KICAgICAgICAgICAgICAgICkKICAgICAgICAgICAgICAgIC5hZGRUbyhtYXBfYjUwOThjZTg5YjQyNGIyOWFhMmI0MjQwMjM1MGUzZWIpOwogICAgICAgICAgICAKICAgIAoKICAgICAgICAgICAgdmFyIG1hcmtlcl8yZDllZTQzMDYyYTY0ZjRkOTc3YWYxNjExOGE3NmYxNiA9IEwubWFya2VyKAogICAgICAgICAgICAgICAgWzQxLjgxNTEzODc4OTMsLTg3LjcwMjY1NDMxNjFdLAogICAgICAgICAgICAgICAgewogICAgICAgICAgICAgICAgICAgIGljb246IG5ldyBMLkljb24uRGVmYXVsdCgpCiAgICAgICAgICAgICAgICAgICAgfQogICAgICAgICAgICAgICAgKQogICAgICAgICAgICAgICAgLmFkZFRvKG1hcF9iNTA5OGNlODliNDI0YjI5YWEyYjQyNDAyMzUwZTNlYik7CiAgICAgICAgICAgIAogICAgCgogICAgICAgICAgICB2YXIgbWFya2VyX2ZlY2ZjODlmYzY3MzRiNGQ4OGVkMmYyZGEyY2E4MzE3ID0gTC5tYXJrZXIoCiAgICAgICAgICAgICAgICBbNDEuOTEyNzIyMzk1OCwtODcuNjgwNTg3MzAyNl0sCiAgICAgICAgICAgICAgICB7CiAgICAgICAgICAgICAgICAgICAgaWNvbjogbmV3IEwuSWNvbi5EZWZhdWx0KCkKICAgICAgICAgICAgICAgICAgICB9CiAgICAgICAgICAgICAgICApCiAgICAgICAgICAgICAgICAuYWRkVG8obWFwX2I1MDk4Y2U4OWI0MjRiMjlhYTJiNDI0MDIzNTBlM2ViKTsKICAgICAgICAgICAgCiAgICAKCiAgICAgICAgICAgIHZhciBtYXJrZXJfNjNhMjk0OTljNjFhNDYxMjg2NjlkNWY3ODc4YWVhNTkgPSBMLm1hcmtlcigKICAgICAgICAgICAgICAgIFs0MS45ODQ1NzIyNjQ0LC04Ny42OTc3MzQ0OTI0XSwKICAgICAgICAgICAgICAgIHsKICAgICAgICAgICAgICAgICAgICBpY29uOiBuZXcgTC5JY29uLkRlZmF1bHQoKQogICAgICAgICAgICAgICAgICAgIH0KICAgICAgICAgICAgICAgICkKICAgICAgICAgICAgICAgIC5hZGRUbyhtYXBfYjUwOThjZTg5YjQyNGIyOWFhMmI0MjQwMjM1MGUzZWIpOwogICAgICAgICAgICAKICAgIAoKICAgICAgICAgICAgdmFyIG1hcmtlcl8yNjYxMDFlMjVmZDY0MjE0YmUyODQ4OTk0M2ExZjM2ZiA9IEwubWFya2VyKAogICAgICAgICAgICAgICAgWzQxLjgxNTUwNTY4NDQsLTg3LjY0MjUwMTAxNDddLAogICAgICAgICAgICAgICAgewogICAgICAgICAgICAgICAgICAgIGljb246IG5ldyBMLkljb24uRGVmYXVsdCgpCiAgICAgICAgICAgICAgICAgICAgfQogICAgICAgICAgICAgICAgKQogICAgICAgICAgICAgICAgLmFkZFRvKG1hcF9iNTA5OGNlODliNDI0YjI5YWEyYjQyNDAyMzUwZTNlYik7CiAgICAgICAgICAgIAogICAgCgogICAgICAgICAgICB2YXIgbWFya2VyXzdhZDRiNzhjZWFjNTQwNmJhZTczZjVlZTkzNmJhNTRkID0gTC5tYXJrZXIoCiAgICAgICAgICAgICAgICBbNDEuODI4NDI2ODY5OSwtODcuNjI2NDAyMjE2NF0sCiAgICAgICAgICAgICAgICB7CiAgICAgICAgICAgICAgICAgICAgaWNvbjogbmV3IEwuSWNvbi5EZWZhdWx0KCkKICAgICAgICAgICAgICAgICAgICB9CiAgICAgICAgICAgICAgICApCiAgICAgICAgICAgICAgICAuYWRkVG8obWFwX2I1MDk4Y2U4OWI0MjRiMjlhYTJiNDI0MDIzNTBlM2ViKTsKICAgICAgICAgICAgCiAgICAKCiAgICAgICAgICAgIHZhciBtYXJrZXJfODc3OTBmYzFjYWJjNGFkOGFjYzVjZDczMTk2YzVlYTcgPSBMLm1hcmtlcigKICAgICAgICAgICAgICAgIFs0MS43ODE4MDc4Nzc5LC04Ny43MDMyNjE2MjIxXSwKICAgICAgICAgICAgICAgIHsKICAgICAgICAgICAgICAgICAgICBpY29uOiBuZXcgTC5JY29uLkRlZmF1bHQoKQogICAgICAgICAgICAgICAgICAgIH0KICAgICAgICAgICAgICAgICkKICAgICAgICAgICAgICAgIC5hZGRUbyhtYXBfYjUwOThjZTg5YjQyNGIyOWFhMmI0MjQwMjM1MGUzZWIpOwogICAgICAgICAgICAKICAgIAoKICAgICAgICAgICAgdmFyIG1hcmtlcl9hZTFkZDRlMzNlNTk0MTI3YWU0Y2JlMmJkMDVjZWM2MiA9IEwubWFya2VyKAogICAgICAgICAgICAgICAgWzQxLjg1NDEyMDc0MTcsLTg3LjYzMTk1NzkyMjVdLAogICAgICAgICAgICAgICAgewogICAgICAgICAgICAgICAgICAgIGljb246IG5ldyBMLkljb24uRGVmYXVsdCgpCiAgICAgICAgICAgICAgICAgICAgfQogICAgICAgICAgICAgICAgKQogICAgICAgICAgICAgICAgLmFkZFRvKG1hcF9iNTA5OGNlODliNDI0YjI5YWEyYjQyNDAyMzUwZTNlYik7CiAgICAgICAgICAgIAogICAgCgogICAgICAgICAgICB2YXIgbWFya2VyXzcwZjRmMDg2MDhlMjRjYTg4NTRlYjc5MWJjMmUwZmNlID0gTC5tYXJrZXIoCiAgICAgICAgICAgICAgICBbNDEuNzc2NzgyMDU2MiwtODcuNzgxODE5Nzg3Nl0sCiAgICAgICAgICAgICAgICB7CiAgICAgICAgICAgICAgICAgICAgaWNvbjogbmV3IEwuSWNvbi5EZWZhdWx0KCkKICAgICAgICAgICAgICAgICAgICB9CiAgICAgICAgICAgICAgICApCiAgICAgICAgICAgICAgICAuYWRkVG8obWFwX2I1MDk4Y2U4OWI0MjRiMjlhYTJiNDI0MDIzNTBlM2ViKTsKICAgICAgICAgICAgCiAgICAKCiAgICAgICAgICAgIHZhciBtYXJrZXJfODEzNjUxMWVlMDA5NGI3ZmE2MGVlOWM3YjljZDM5YTkgPSBMLm1hcmtlcigKICAgICAgICAgICAgICAgIFs0MS43ODAzNzMwMTEsLTg3LjYwNzE1NzI0MjhdLAogICAgICAgICAgICAgICAgewogICAgICAgICAgICAgICAgICAgIGljb246IG5ldyBMLkljb24uRGVmYXVsdCgpCiAgICAgICAgICAgICAgICAgICAgfQogICAgICAgICAgICAgICAgKQogICAgICAgICAgICAgICAgLmFkZFRvKG1hcF9iNTA5OGNlODliNDI0YjI5YWEyYjQyNDAyMzUwZTNlYik7CiAgICAgICAgICAgIAogICAgCgogICAgICAgICAgICB2YXIgbWFya2VyXzQ5YjRjYjE5ZmJmYzRmNmY5YWRhZmEyMzdlNjBjNDQ1ID0gTC5tYXJrZXIoCiAgICAgICAgICAgICAgICBbNDEuODMyMjg3MDMzNSwtODcuNjQ2NDg1MDExMl0sCiAgICAgICAgICAgICAgICB7CiAgICAgICAgICAgICAgICAgICAgaWNvbjogbmV3IEwuSWNvbi5EZWZhdWx0KCkKICAgICAgICAgICAgICAgICAgICB9CiAgICAgICAgICAgICAgICApCiAgICAgICAgICAgICAgICAuYWRkVG8obWFwX2I1MDk4Y2U4OWI0MjRiMjlhYTJiNDI0MDIzNTBlM2ViKTsKICAgICAgICAgICAgCiAgICAKCiAgICAgICAgICAgIHZhciBtYXJrZXJfMjFhZGI1ODQ4MjUyNGUxNmFmNzU2YzJhNjdlZjY4YmQgPSBMLm1hcmtlcigKICAgICAgICAgICAgICAgIFs0MS44OTQzNzA3LC04Ny43MDY0NjA3XSwKICAgICAgICAgICAgICAgIHsKICAgICAgICAgICAgICAgICAgICBpY29uOiBuZXcgTC5JY29uLkRlZmF1bHQoKQogICAgICAgICAgICAgICAgICAgIH0KICAgICAgICAgICAgICAgICkKICAgICAgICAgICAgICAgIC5hZGRUbyhtYXBfYjUwOThjZTg5YjQyNGIyOWFhMmI0MjQwMjM1MGUzZWIpOwogICAgICAgICAgICAKICAgIAoKICAgICAgICAgICAgdmFyIG1hcmtlcl9hZjNiODMxNjAzZmE0MDg3YTc3NTM2MTNhM2MzN2I5MSA9IEwubWFya2VyKAogICAgICAgICAgICAgICAgWzQxLjg2NDUwMDc1OTcsLTg3LjcwOTY4NTQ4OTNdLAogICAgICAgICAgICAgICAgewogICAgICAgICAgICAgICAgICAgIGljb246IG5ldyBMLkljb24uRGVmYXVsdCgpCiAgICAgICAgICAgICAgICAgICAgfQogICAgICAgICAgICAgICAgKQogICAgICAgICAgICAgICAgLmFkZFRvKG1hcF9iNTA5OGNlODliNDI0YjI5YWEyYjQyNDAyMzUwZTNlYik7CiAgICAgICAgICAgIAogICAgCgogICAgICAgICAgICB2YXIgbWFya2VyX2M3ZWMzZDhmNjgzZDQzMGU5ZmQ0NTBmYzhlZWNiYjkxID0gTC5tYXJrZXIoCiAgICAgICAgICAgICAgICBbNDEuOTQzMzA4LC04Ny44MTc0OTddLAogICAgICAgICAgICAgICAgewogICAgICAgICAgICAgICAgICAgIGljb246IG5ldyBMLkljb24uRGVmYXVsdCgpCiAgICAgICAgICAgICAgICAgICAgfQogICAgICAgICAgICAgICAgKQogICAgICAgICAgICAgICAgLmFkZFRvKG1hcF9iNTA5OGNlODliNDI0YjI5YWEyYjQyNDAyMzUwZTNlYik7CiAgICAgICAgICAgIAogICAgCgogICAgICAgICAgICB2YXIgbWFya2VyX2E0MTIzNTI1NGVjZDQwNzU5YjZkYWZkMDVmMGFlOTdmID0gTC5tYXJrZXIoCiAgICAgICAgICAgICAgICBbNDEuOTk2OTcwODgzNSwtODcuNzYyMDQ3ODkyXSwKICAgICAgICAgICAgICAgIHsKICAgICAgICAgICAgICAgICAgICBpY29uOiBuZXcgTC5JY29uLkRlZmF1bHQoKQogICAgICAgICAgICAgICAgICAgIH0KICAgICAgICAgICAgICAgICkKICAgICAgICAgICAgICAgIC5hZGRUbyhtYXBfYjUwOThjZTg5YjQyNGIyOWFhMmI0MjQwMjM1MGUzZWIpOwogICAgICAgICAgICAKICAgIAoKICAgICAgICAgICAgdmFyIG1hcmtlcl9mNzcwNTZiYjhmZTM0Zjg4YjRjYTlmNzY2YTI4NTNkMCA9IEwubWFya2VyKAogICAgICAgICAgICAgICAgWzQxLjk5MDk5NiwtODcuNjYwNzU3XSwKICAgICAgICAgICAgICAgIHsKICAgICAgICAgICAgICAgICAgICBpY29uOiBuZXcgTC5JY29uLkRlZmF1bHQoKQogICAgICAgICAgICAgICAgICAgIH0KICAgICAgICAgICAgICAgICkKICAgICAgICAgICAgICAgIC5hZGRUbyhtYXBfYjUwOThjZTg5YjQyNGIyOWFhMmI0MjQwMjM1MGUzZWIpOwogICAgICAgICAgICAKICAgIAoKICAgICAgICAgICAgdmFyIG1hcmtlcl84YTU4YzZkN2RkYTA0MTc5OGUwOTczMzE4ZDY5YjViMCA9IEwubWFya2VyKAogICAgICAgICAgICAgICAgWzQxLjc5MzY5NzIzMjcsLTg3LjY5NDA0NjQ1NDZdLAogICAgICAgICAgICAgICAgewogICAgICAgICAgICAgICAgICAgIGljb246IG5ldyBMLkljb24uRGVmYXVsdCgpCiAgICAgICAgICAgICAgICAgICAgfQogICAgICAgICAgICAgICAgKQogICAgICAgICAgICAgICAgLmFkZFRvKG1hcF9iNTA5OGNlODliNDI0YjI5YWEyYjQyNDAyMzUwZTNlYik7CiAgICAgICAgICAgIAogICAgCgogICAgICAgICAgICB2YXIgbWFya2VyXzU0NDg5MzZkZWE0ZjQ1YTVhZmE5YjZlNmJiZTQxNzBhID0gTC5tYXJrZXIoCiAgICAgICAgICAgICAgICBbNDEuOTIxMTE0NzI0OSwtODcuNzk3MjQxMDIwN10sCiAgICAgICAgICAgICAgICB7CiAgICAgICAgICAgICAgICAgICAgaWNvbjogbmV3IEwuSWNvbi5EZWZhdWx0KCkKICAgICAgICAgICAgICAgICAgICB9CiAgICAgICAgICAgICAgICApCiAgICAgICAgICAgICAgICAuYWRkVG8obWFwX2I1MDk4Y2U4OWI0MjRiMjlhYTJiNDI0MDIzNTBlM2ViKTsKICAgICAgICAgICAgCiAgICAKCiAgICAgICAgICAgIHZhciBtYXJrZXJfMjUxY2Y4YTY5NzI1NDM5Yzg2MmM0NzBmYTQ4YjNiNTcgPSBMLm1hcmtlcigKICAgICAgICAgICAgICAgIFs0MS43OTI5ODY2NjA4LC04Ny43ODAxMzMyNThdLAogICAgICAgICAgICAgICAgewogICAgICAgICAgICAgICAgICAgIGljb246IG5ldyBMLkljb24uRGVmYXVsdCgpCiAgICAgICAgICAgICAgICAgICAgfQogICAgICAgICAgICAgICAgKQogICAgICAgICAgICAgICAgLmFkZFRvKG1hcF9iNTA5OGNlODliNDI0YjI5YWEyYjQyNDAyMzUwZTNlYik7CiAgICAgICAgICAgIAogICAgCgogICAgICAgICAgICB2YXIgbWFya2VyX2EwZmQzMzUwMTBhYjQ4ZmM5NDkyYWIwNDFiOGRkZTVkID0gTC5tYXJrZXIoCiAgICAgICAgICAgICAgICBbNDEuNzYyMywtODcuNjAwNV0sCiAgICAgICAgICAgICAgICB7CiAgICAgICAgICAgICAgICAgICAgaWNvbjogbmV3IEwuSWNvbi5EZWZhdWx0KCkKICAgICAgICAgICAgICAgICAgICB9CiAgICAgICAgICAgICAgICApCiAgICAgICAgICAgICAgICAuYWRkVG8obWFwX2I1MDk4Y2U4OWI0MjRiMjlhYTJiNDI0MDIzNTBlM2ViKTsKICAgICAgICAgICAgCiAgICAKCiAgICAgICAgICAgIHZhciBtYXJrZXJfZDQxMDI5NDBkOGUyNDllYzgyZmE3YmE4NzdhNzNkMzggPSBMLm1hcmtlcigKICAgICAgICAgICAgICAgIFs0MS44MDc0MzI5ODI4LC04Ny42MjI3Mzk4MTk0XSwKICAgICAgICAgICAgICAgIHsKICAgICAgICAgICAgICAgICAgICBpY29uOiBuZXcgTC5JY29uLkRlZmF1bHQoKQogICAgICAgICAgICAgICAgICAgIH0KICAgICAgICAgICAgICAgICkKICAgICAgICAgICAgICAgIC5hZGRUbyhtYXBfYjUwOThjZTg5YjQyNGIyOWFhMmI0MjQwMjM1MGUzZWIpOwogICAgICAgICAgICAKICAgIAoKICAgICAgICAgICAgdmFyIG1hcmtlcl9mNmQ2ZmEwNzNjY2E0MDgxYTBlZDA3NjliMTliODdkNCA9IEwubWFya2VyKAogICAgICAgICAgICAgICAgWzQxLjg3NjI5OTg1MzYsLTg3LjYyODE5MjgwMTJdLAogICAgICAgICAgICAgICAgewogICAgICAgICAgICAgICAgICAgIGljb246IG5ldyBMLkljb24uRGVmYXVsdCgpCiAgICAgICAgICAgICAgICAgICAgfQogICAgICAgICAgICAgICAgKQogICAgICAgICAgICAgICAgLmFkZFRvKG1hcF9iNTA5OGNlODliNDI0YjI5YWEyYjQyNDAyMzUwZTNlYik7CiAgICAgICAgICAgIAogICAgCgogICAgICAgICAgICB2YXIgbWFya2VyXzk1YWY4MDY0MTRiMTQwM2ZhMzU3ZjFiYTE1NjhiMmY3ID0gTC5tYXJrZXIoCiAgICAgICAgICAgICAgICBbNDEuNjU5MTc4ODcwMywtODcuNTQ4MjQxMzI3M10sCiAgICAgICAgICAgICAgICB7CiAgICAgICAgICAgICAgICAgICAgaWNvbjogbmV3IEwuSWNvbi5EZWZhdWx0KCkKICAgICAgICAgICAgICAgICAgICB9CiAgICAgICAgICAgICAgICApCiAgICAgICAgICAgICAgICAuYWRkVG8obWFwX2I1MDk4Y2U4OWI0MjRiMjlhYTJiNDI0MDIzNTBlM2ViKTsKICAgICAgICAgICAgCiAgICAKCiAgICAgICAgICAgIHZhciBtYXJrZXJfMjBmN2ExNjA2NjYwNDI0MDk5ZDM2MDcwNDk3YmJlZmIgPSBMLm1hcmtlcigKICAgICAgICAgICAgICAgIFs0MS45MTAzMjgsLTg3LjcwNTQyN10sCiAgICAgICAgICAgICAgICB7CiAgICAgICAgICAgICAgICAgICAgaWNvbjogbmV3IEwuSWNvbi5EZWZhdWx0KCkKICAgICAgICAgICAgICAgICAgICB9CiAgICAgICAgICAgICAgICApCiAgICAgICAgICAgICAgICAuYWRkVG8obWFwX2I1MDk4Y2U4OWI0MjRiMjlhYTJiNDI0MDIzNTBlM2ViKTsKICAgICAgICAgICAgCiAgICAKCiAgICAgICAgICAgIHZhciBtYXJrZXJfZjc2OGMxM2YzZTY0NDE0ZjllOTg4MjlkODNjNzA5YzIgPSBMLm1hcmtlcigKICAgICAgICAgICAgICAgIFs0MS45NTM5MDM3MjA3LC04Ny43MTY5NDI1NTA0XSwKICAgICAgICAgICAgICAgIHsKICAgICAgICAgICAgICAgICAgICBpY29uOiBuZXcgTC5JY29uLkRlZmF1bHQoKQogICAgICAgICAgICAgICAgICAgIH0KICAgICAgICAgICAgICAgICkKICAgICAgICAgICAgICAgIC5hZGRUbyhtYXBfYjUwOThjZTg5YjQyNGIyOWFhMmI0MjQwMjM1MGUzZWIpOwogICAgICAgICAgICAKICAgIAoKICAgICAgICAgICAgdmFyIG1hcmtlcl9lNzJiYzhmNDNlYjY0YmRjYWIxZDYzMzU2Y2I3MWVmMCA9IEwubWFya2VyKAogICAgICAgICAgICAgICAgWzQxLjk2NzU5NzM5MTgsLTg3Ljc2MTU1NDI2MjNdLAogICAgICAgICAgICAgICAgewogICAgICAgICAgICAgICAgICAgIGljb246IG5ldyBMLkljb24uRGVmYXVsdCgpCiAgICAgICAgICAgICAgICAgICAgfQogICAgICAgICAgICAgICAgKQogICAgICAgICAgICAgICAgLmFkZFRvKG1hcF9iNTA5OGNlODliNDI0YjI5YWEyYjQyNDAyMzUwZTNlYik7CiAgICAgICAgICAgIAogICAgCgogICAgICAgICAgICB2YXIgbWFya2VyX2ZjNTMxM2Y3Y2JjNTQ3MTE5NmZjYmNmMGQ2MjUzNjljID0gTC5tYXJrZXIoCiAgICAgICAgICAgICAgICBbNDEuNzEzMjYxNzYyOSwtODcuNTY1NDkyMDY5M10sCiAgICAgICAgICAgICAgICB7CiAgICAgICAgICAgICAgICAgICAgaWNvbjogbmV3IEwuSWNvbi5EZWZhdWx0KCkKICAgICAgICAgICAgICAgICAgICB9CiAgICAgICAgICAgICAgICApCiAgICAgICAgICAgICAgICAuYWRkVG8obWFwX2I1MDk4Y2U4OWI0MjRiMjlhYTJiNDI0MDIzNTBlM2ViKTsKICAgICAgICAgICAgCiAgICAKCiAgICAgICAgICAgIHZhciBtYXJrZXJfNjQyYjFlMWI3ZTFkNDFjYmJmZjczOTU0MjEzZDY1MjcgPSBMLm1hcmtlcigKICAgICAgICAgICAgICAgIFs0MS43ODIxNzE2MzMyLC04Ny42Mzc0MDc4NjUzXSwKICAgICAgICAgICAgICAgIHsKICAgICAgICAgICAgICAgICAgICBpY29uOiBuZXcgTC5JY29uLkRlZmF1bHQoKQogICAgICAgICAgICAgICAgICAgIH0KICAgICAgICAgICAgICAgICkKICAgICAgICAgICAgICAgIC5hZGRUbyhtYXBfYjUwOThjZTg5YjQyNGIyOWFhMmI0MjQwMjM1MGUzZWIpOwogICAgICAgICAgICAKICAgIAoKICAgICAgICAgICAgdmFyIG1hcmtlcl9lMWNiYzQ5ZTJmYTc0NjQxOTU1ODI4MzI1MGZhNjMxOCA9IEwubWFya2VyKAogICAgICAgICAgICAgICAgWzQxLjgzMTgwMTM5OTYsLTg3LjYxNzc2MDY2NTZdLAogICAgICAgICAgICAgICAgewogICAgICAgICAgICAgICAgICAgIGljb246IG5ldyBMLkljb24uRGVmYXVsdCgpCiAgICAgICAgICAgICAgICAgICAgfQogICAgICAgICAgICAgICAgKQogICAgICAgICAgICAgICAgLmFkZFRvKG1hcF9iNTA5OGNlODliNDI0YjI5YWEyYjQyNDAyMzUwZTNlYik7CiAgICAgICAgICAgIAogICAgCgogICAgICAgICAgICB2YXIgbWFya2VyXzg2NWFmM2NjMzI2YzRhMjE5Y2Q5MThhOGM4MGZlYjgyID0gTC5tYXJrZXIoCiAgICAgICAgICAgICAgICBbNDEuODc5MzM4NjU4NSwtODcuNzI1NTYwMzQ2Ml0sCiAgICAgICAgICAgICAgICB7CiAgICAgICAgICAgICAgICAgICAgaWNvbjogbmV3IEwuSWNvbi5EZWZhdWx0KCkKICAgICAgICAgICAgICAgICAgICB9CiAgICAgICAgICAgICAgICApCiAgICAgICAgICAgICAgICAuYWRkVG8obWFwX2I1MDk4Y2U4OWI0MjRiMjlhYTJiNDI0MDIzNTBlM2ViKTsKICAgICAgICAgICAgCiAgICAKCiAgICAgICAgICAgIHZhciBtYXJrZXJfZmJiZGUzODU1Y2MzNGQwNTg2ODU5N2M2OGY0ZTE5MzIgPSBMLm1hcmtlcigKICAgICAgICAgICAgICAgIFs0MS45NDAzMTM1OTU2LC04Ny42NzA3NTc3MTI4XSwKICAgICAgICAgICAgICAgIHsKICAgICAgICAgICAgICAgICAgICBpY29uOiBuZXcgTC5JY29uLkRlZmF1bHQoKQogICAgICAgICAgICAgICAgICAgIH0KICAgICAgICAgICAgICAgICkKICAgICAgICAgICAgICAgIC5hZGRUbyhtYXBfYjUwOThjZTg5YjQyNGIyOWFhMmI0MjQwMjM1MGUzZWIpOwogICAgICAgICAgICAKICAgIAoKICAgICAgICAgICAgdmFyIG1hcmtlcl85NTRiNDJlY2Q0ODk0ZjMwOTliYzBlODcwYWRkNWZiMCA9IEwubWFya2VyKAogICAgICAgICAgICAgICAgWzQxLjkyNTU5MTY5NCwtODcuNjU4MTEzMjQ1MV0sCiAgICAgICAgICAgICAgICB7CiAgICAgICAgICAgICAgICAgICAgaWNvbjogbmV3IEwuSWNvbi5EZWZhdWx0KCkKICAgICAgICAgICAgICAgICAgICB9CiAgICAgICAgICAgICAgICApCiAgICAgICAgICAgICAgICAuYWRkVG8obWFwX2I1MDk4Y2U4OWI0MjRiMjlhYTJiNDI0MDIzNTBlM2ViKTsKICAgICAgICAgICAgCiAgICAKCiAgICAgICAgICAgIHZhciBtYXJrZXJfMDk0ZDI5YmMyMjY0NDQzZDhlNjI1NDM3Y2ZhMjBmZTcgPSBMLm1hcmtlcigKICAgICAgICAgICAgICAgIFs0MS44NDk1MzMxLC04Ny43MDUxMjE1XSwKICAgICAgICAgICAgICAgIHsKICAgICAgICAgICAgICAgICAgICBpY29uOiBuZXcgTC5JY29uLkRlZmF1bHQoKQogICAgICAgICAgICAgICAgICAgIH0KICAgICAgICAgICAgICAgICkKICAgICAgICAgICAgICAgIC5hZGRUbyhtYXBfYjUwOThjZTg5YjQyNGIyOWFhMmI0MjQwMjM1MGUzZWIpOwogICAgICAgICAgICAKICAgIAoKICAgICAgICAgICAgdmFyIG1hcmtlcl9jYjQ0YzBjMGU4NWY0MTdkODk3NzUyYmU1MTgzOGNiYiA9IEwubWFya2VyKAogICAgICAgICAgICAgICAgWzQxLjkyNTA1MjEwMDgsLTg3LjcwMzM5NDEwOTNdLAogICAgICAgICAgICAgICAgewogICAgICAgICAgICAgICAgICAgIGljb246IG5ldyBMLkljb24uRGVmYXVsdCgpCiAgICAgICAgICAgICAgICAgICAgfQogICAgICAgICAgICAgICAgKQogICAgICAgICAgICAgICAgLmFkZFRvKG1hcF9iNTA5OGNlODliNDI0YjI5YWEyYjQyNDAyMzUwZTNlYik7CiAgICAgICAgICAgIAogICAgCgogICAgICAgICAgICB2YXIgbWFya2VyX2FmZTBiN2ZlZDc0YTQ0ZGY5MjQ0M2EwZjBhZTcxNmQ4ID0gTC5tYXJrZXIoCiAgICAgICAgICAgICAgICBbNDEuODU3NTIyMDA5NiwtODcuNjYwOTM3MTE2M10sCiAgICAgICAgICAgICAgICB7CiAgICAgICAgICAgICAgICAgICAgaWNvbjogbmV3IEwuSWNvbi5EZWZhdWx0KCkKICAgICAgICAgICAgICAgICAgICB9CiAgICAgICAgICAgICAgICApCiAgICAgICAgICAgICAgICAuYWRkVG8obWFwX2I1MDk4Y2U4OWI0MjRiMjlhYTJiNDI0MDIzNTBlM2ViKTsKICAgICAgICAgICAgCiAgICAKCiAgICAgICAgICAgIHZhciBtYXJrZXJfNjNkM2RiMzI4ODE5NDg1ODhjZjljZjQ3N2NlMDJkNDIgPSBMLm1hcmtlcigKICAgICAgICAgICAgICAgIFs0MS44ODExODU3MDQyLC04Ny42NzkxNDIxMTExXSwKICAgICAgICAgICAgICAgIHsKICAgICAgICAgICAgICAgICAgICBpY29uOiBuZXcgTC5JY29uLkRlZmF1bHQoKQogICAgICAgICAgICAgICAgICAgIH0KICAgICAgICAgICAgICAgICkKICAgICAgICAgICAgICAgIC5hZGRUbyhtYXBfYjUwOThjZTg5YjQyNGIyOWFhMmI0MjQwMjM1MGUzZWIpOwogICAgICAgICAgICAKICAgIAoKICAgICAgICAgICAgdmFyIG1hcmtlcl9lYWMyZTIxNDM2MDA0ZjVlYWQyYThmMWE0NDMyNDg0NiA9IEwubWFya2VyKAogICAgICAgICAgICAgICAgWzQxLjk2ODM1NDQ1NjUsLTg3LjczODE2MTg5ODldLAogICAgICAgICAgICAgICAgewogICAgICAgICAgICAgICAgICAgIGljb246IG5ldyBMLkljb24uRGVmYXVsdCgpCiAgICAgICAgICAgICAgICAgICAgfQogICAgICAgICAgICAgICAgKQogICAgICAgICAgICAgICAgLmFkZFRvKG1hcF9iNTA5OGNlODliNDI0YjI5YWEyYjQyNDAyMzUwZTNlYik7CiAgICAgICAgICAgIAogICAgCgogICAgICAgICAgICB2YXIgbWFya2VyX2VmYzllMmVmMDQxYzQwMjhiOGMzMzk1YjdiYzA2NzFkID0gTC5tYXJrZXIoCiAgICAgICAgICAgICAgICBbNDEuODMwNDQ3NTAwMiwtODcuNjczMzkxNjU0M10sCiAgICAgICAgICAgICAgICB7CiAgICAgICAgICAgICAgICAgICAgaWNvbjogbmV3IEwuSWNvbi5EZWZhdWx0KCkKICAgICAgICAgICAgICAgICAgICB9CiAgICAgICAgICAgICAgICApCiAgICAgICAgICAgICAgICAuYWRkVG8obWFwX2I1MDk4Y2U4OWI0MjRiMjlhYTJiNDI0MDIzNTBlM2ViKTsKICAgICAgICAgICAgCiAgICAKCiAgICAgICAgICAgIHZhciBtYXJrZXJfM2QzNGUzOTZmOGVmNDJiMGEwYmJjN2Y3MmRiMDhlZDUgPSBMLm1hcmtlcigKICAgICAgICAgICAgICAgIFs0MS45NDAwODQyMDg2LC04Ny42NDYxNDMyMjddLAogICAgICAgICAgICAgICAgewogICAgICAgICAgICAgICAgICAgIGljb246IG5ldyBMLkljb24uRGVmYXVsdCgpCiAgICAgICAgICAgICAgICAgICAgfQogICAgICAgICAgICAgICAgKQogICAgICAgICAgICAgICAgLmFkZFRvKG1hcF9iNTA5OGNlODliNDI0YjI5YWEyYjQyNDAyMzUwZTNlYik7CiAgICAgICAgICAgIAogICAgCgogICAgICAgICAgICB2YXIgbWFya2VyX2Q3NmY1YTNiZTAyZTQyNTdiOWM1MmJkYTU5ZDE5MTdkID0gTC5tYXJrZXIoCiAgICAgICAgICAgICAgICBbNDEuNjkyOTE5MDk4NiwtODcuNzAxMDM3ODg1NV0sCiAgICAgICAgICAgICAgICB7CiAgICAgICAgICAgICAgICAgICAgaWNvbjogbmV3IEwuSWNvbi5EZWZhdWx0KCkKICAgICAgICAgICAgICAgICAgICB9CiAgICAgICAgICAgICAgICApCiAgICAgICAgICAgICAgICAuYWRkVG8obWFwX2I1MDk4Y2U4OWI0MjRiMjlhYTJiNDI0MDIzNTBlM2ViKTsKICAgICAgICAgICAgCiAgICAKCiAgICAgICAgICAgIHZhciBtYXJrZXJfYWNmMDFmMGQ0ZTY0NDZmNTg1YzI4OWIzMGEzYzZkMTUgPSBMLm1hcmtlcigKICAgICAgICAgICAgICAgIFs0MS45MDM4NjkzODc2LC04Ny42MzY0ODk3OTc5XSwKICAgICAgICAgICAgICAgIHsKICAgICAgICAgICAgICAgICAgICBpY29uOiBuZXcgTC5JY29uLkRlZmF1bHQoKQogICAgICAgICAgICAgICAgICAgIH0KICAgICAgICAgICAgICAgICkKICAgICAgICAgICAgICAgIC5hZGRUbyhtYXBfYjUwOThjZTg5YjQyNGIyOWFhMmI0MjQwMjM1MGUzZWIpOwogICAgICAgICAgICAKICAgIAoKICAgICAgICAgICAgdmFyIG1hcmtlcl80OTNiYmRiZjk5ZGU0ZjAzYTQ1OTQ0M2M3NjliNmUwMCA9IEwubWFya2VyKAogICAgICAgICAgICAgICAgWzQxLjkwOTQyOTE5OCwtODcuNzY4Nzk4OTg4OV0sCiAgICAgICAgICAgICAgICB7CiAgICAgICAgICAgICAgICAgICAgaWNvbjogbmV3IEwuSWNvbi5EZWZhdWx0KCkKICAgICAgICAgICAgICAgICAgICB9CiAgICAgICAgICAgICAgICApCiAgICAgICAgICAgICAgICAuYWRkVG8obWFwX2I1MDk4Y2U4OWI0MjRiMjlhYTJiNDI0MDIzNTBlM2ViKTsKICAgICAgICAgICAgCiAgICAKCiAgICAgICAgICAgIHZhciBtYXJrZXJfOWI2OTJjYWNmNWQ1NGMxMjk0ODFhYjRhYTdmZGFiMGEgPSBMLm1hcmtlcigKICAgICAgICAgICAgICAgIFs0MS45MTAwNDI0MTYxLC04Ny43MzM5MjYwOTIyXSwKICAgICAgICAgICAgICAgIHsKICAgICAgICAgICAgICAgICAgICBpY29uOiBuZXcgTC5JY29uLkRlZmF1bHQoKQogICAgICAgICAgICAgICAgICAgIH0KICAgICAgICAgICAgICAgICkKICAgICAgICAgICAgICAgIC5hZGRUbyhtYXBfYjUwOThjZTg5YjQyNGIyOWFhMmI0MjQwMjM1MGUzZWIpOwogICAgICAgICAgICAKICAgIAoKICAgICAgICAgICAgdmFyIG1hcmtlcl8wOGI3YTU4ZDI3ZDE0OTExYTcwZDQwOGFlNjk4Y2ZiNiA9IEwubWFya2VyKAogICAgICAgICAgICAgICAgWzQxLjk5ODMzOTAyOSwtODcuNjk5NjUwMDUxNF0sCiAgICAgICAgICAgICAgICB7CiAgICAgICAgICAgICAgICAgICAgaWNvbjogbmV3IEwuSWNvbi5EZWZhdWx0KCkKICAgICAgICAgICAgICAgICAgICB9CiAgICAgICAgICAgICAgICApCiAgICAgICAgICAgICAgICAuYWRkVG8obWFwX2I1MDk4Y2U4OWI0MjRiMjlhYTJiNDI0MDIzNTBlM2ViKTsKICAgICAgICAgICAgCiAgICAKCiAgICAgICAgICAgIHZhciBtYXJrZXJfYWYzYmE2NTk0MWYyNGQxYjg1NzcyM2ZmYTZlMjI1NmMgPSBMLm1hcmtlcigKICAgICAgICAgICAgICAgIFs0MS45Nzc5NjExNDAyLC04Ny44MTMyMDkxMDkzXSwKICAgICAgICAgICAgICAgIHsKICAgICAgICAgICAgICAgICAgICBpY29uOiBuZXcgTC5JY29uLkRlZmF1bHQoKQogICAgICAgICAgICAgICAgICAgIH0KICAgICAgICAgICAgICAgICkKICAgICAgICAgICAgICAgIC5hZGRUbyhtYXBfYjUwOThjZTg5YjQyNGIyOWFhMmI0MjQwMjM1MGUzZWIpOwogICAgICAgICAgICAKICAgIAoKICAgICAgICAgICAgdmFyIG1hcmtlcl9lOTJkMjk0ZWZmMGM0MDhjYjkzY2ZkMTdmMDllNTBmMyA9IEwubWFya2VyKAogICAgICAgICAgICAgICAgWzQxLjkzODc3Njc1MDQsLTg3Ljc1NDQ5MjkzNzddLAogICAgICAgICAgICAgICAgewogICAgICAgICAgICAgICAgICAgIGljb246IG5ldyBMLkljb24uRGVmYXVsdCgpCiAgICAgICAgICAgICAgICAgICAgfQogICAgICAgICAgICAgICAgKQogICAgICAgICAgICAgICAgLmFkZFRvKG1hcF9iNTA5OGNlODliNDI0YjI5YWEyYjQyNDAyMzUwZTNlYik7CiAgICAgICAgICAgIAogICAgCgogICAgICAgICAgICB2YXIgbWFya2VyXzFlNzNkMDc0NDUzZTQ1N2ViMmIzN2UxMDY2OTk4MTBiID0gTC5tYXJrZXIoCiAgICAgICAgICAgICAgICBbNDEuNjk0NDA2NDA5LC04Ny42MTgyNjA2NjIzXSwKICAgICAgICAgICAgICAgIHsKICAgICAgICAgICAgICAgICAgICBpY29uOiBuZXcgTC5JY29uLkRlZmF1bHQoKQogICAgICAgICAgICAgICAgICAgIH0KICAgICAgICAgICAgICAgICkKICAgICAgICAgICAgICAgIC5hZGRUbyhtYXBfYjUwOThjZTg5YjQyNGIyOWFhMmI0MjQwMjM1MGUzZWIpOwogICAgICAgICAgICAKICAgIAoKICAgICAgICAgICAgdmFyIG1hcmtlcl8wY2M4NmFiNGRhMmE0YzljODk4ODRmZmQ4ODQ4ZTVkYyA9IEwubWFya2VyKAogICAgICAgICAgICAgICAgWzQxLjk5MTkxNzUyNDksLTg3Ljc5ODMwMTg5ODZdLAogICAgICAgICAgICAgICAgewogICAgICAgICAgICAgICAgICAgIGljb246IG5ldyBMLkljb24uRGVmYXVsdCgpCiAgICAgICAgICAgICAgICAgICAgfQogICAgICAgICAgICAgICAgKQogICAgICAgICAgICAgICAgLmFkZFRvKG1hcF9iNTA5OGNlODliNDI0YjI5YWEyYjQyNDAyMzUwZTNlYik7CiAgICAgICAgICAgIAogICAgCgogICAgICAgICAgICB2YXIgbWFya2VyXzBmOGRiODYzYTFkMTQyYzlhMGEyMGI5MTk2ZjMwNDZmID0gTC5tYXJrZXIoCiAgICAgICAgICAgICAgICBbNDIuMDA2NzA3NjM2NiwtODcuNjczNDA3NjcyN10sCiAgICAgICAgICAgICAgICB7CiAgICAgICAgICAgICAgICAgICAgaWNvbjogbmV3IEwuSWNvbi5EZWZhdWx0KCkKICAgICAgICAgICAgICAgICAgICB9CiAgICAgICAgICAgICAgICApCiAgICAgICAgICAgICAgICAuYWRkVG8obWFwX2I1MDk4Y2U4OWI0MjRiMjlhYTJiNDI0MDIzNTBlM2ViKTsKICAgICAgICAgICAgCiAgICAKCiAgICAgICAgICAgIHZhciBtYXJrZXJfMzhlMjVjNjc1M2JjNDk3ZTk5NGM5NjQyOWFmYTQ4NmQgPSBMLm1hcmtlcigKICAgICAgICAgICAgICAgIFs0MS44NjkyNzYxNDg1LC04Ny42NTQ0Nzk5ODQxXSwKICAgICAgICAgICAgICAgIHsKICAgICAgICAgICAgICAgICAgICBpY29uOiBuZXcgTC5JY29uLkRlZmF1bHQoKQogICAgICAgICAgICAgICAgICAgIH0KICAgICAgICAgICAgICAgICkKICAgICAgICAgICAgICAgIC5hZGRUbyhtYXBfYjUwOThjZTg5YjQyNGIyOWFhMmI0MjQwMjM1MGUzZWIpOwogICAgICAgICAgICAKICAgIAoKICAgICAgICAgICAgdmFyIG1hcmtlcl8zOTM0ZTM4ODYzYmU0NjMyOTlhNzU5M2Y0NDM1ZjM1OSA9IEwubWFya2VyKAogICAgICAgICAgICAgICAgWzQxLjc0OTM2MTY4MzQsLTg3LjcyNDM5NTU3NTddLAogICAgICAgICAgICAgICAgewogICAgICAgICAgICAgICAgICAgIGljb246IG5ldyBMLkljb24uRGVmYXVsdCgpCiAgICAgICAgICAgICAgICAgICAgfQogICAgICAgICAgICAgICAgKQogICAgICAgICAgICAgICAgLmFkZFRvKG1hcF9iNTA5OGNlODliNDI0YjI5YWEyYjQyNDAyMzUwZTNlYik7CiAgICAgICAgICAgIAogICAgCgogICAgICAgICAgICB2YXIgbWFya2VyXzkzOGRlMmI1MDE5ZTRlNWNiNDNkYTkzZGE0Zjg1NzBlID0gTC5tYXJrZXIoCiAgICAgICAgICAgICAgICBbNDEuNzk1Mjc5NDIxMiwtODcuNjU0OTIwNzE5M10sCiAgICAgICAgICAgICAgICB7CiAgICAgICAgICAgICAgICAgICAgaWNvbjogbmV3IEwuSWNvbi5EZWZhdWx0KCkKICAgICAgICAgICAgICAgICAgICB9CiAgICAgICAgICAgICAgICApCiAgICAgICAgICAgICAgICAuYWRkVG8obWFwX2I1MDk4Y2U4OWI0MjRiMjlhYTJiNDI0MDIzNTBlM2ViKTsKICAgICAgICAgICAgCiAgICAKCiAgICAgICAgICAgIHZhciBtYXJrZXJfNTIxZGMxYTIwZDFjNGFhMDhmYjc3MTE2NjZlMTk3ODAgPSBMLm1hcmtlcigKICAgICAgICAgICAgICAgIFs0MS43MzA1NzQ4MzQ2LC04Ny41NDk4MDY5NF0sCiAgICAgICAgICAgICAgICB7CiAgICAgICAgICAgICAgICAgICAgaWNvbjogbmV3IEwuSWNvbi5EZWZhdWx0KCkKICAgICAgICAgICAgICAgICAgICB9CiAgICAgICAgICAgICAgICApCiAgICAgICAgICAgICAgICAuYWRkVG8obWFwX2I1MDk4Y2U4OWI0MjRiMjlhYTJiNDI0MDIzNTBlM2ViKTsKICAgICAgICAgICAgCiAgICAKCiAgICAgICAgICAgIHZhciBtYXJrZXJfZTA1Nzg0Zjc1YjYxNDAwZjlmMzcyODg3YWNjODI1ZTggPSBMLm1hcmtlcigKICAgICAgICAgICAgICAgIFs0MS43NjE1NTUzNTU5LC04Ny41NjIwODM2Mzg4XSwKICAgICAgICAgICAgICAgIHsKICAgICAgICAgICAgICAgICAgICBpY29uOiBuZXcgTC5JY29uLkRlZmF1bHQoKQogICAgICAgICAgICAgICAgICAgIH0KICAgICAgICAgICAgICAgICkKICAgICAgICAgICAgICAgIC5hZGRUbyhtYXBfYjUwOThjZTg5YjQyNGIyOWFhMmI0MjQwMjM1MGUzZWIpOwogICAgICAgICAgICAKICAgIAoKICAgICAgICAgICAgdmFyIG1hcmtlcl9lYTg5YmUxMmUwNGQ0ZjFiOTFhYzdiYjhiNGViYTgyZSA9IEwubWFya2VyKAogICAgICAgICAgICAgICAgWzQxLjk2MjQwMzU4MTEsLTg3LjY4NDQxNjg0OTVdLAogICAgICAgICAgICAgICAgewogICAgICAgICAgICAgICAgICAgIGljb246IG5ldyBMLkljb24uRGVmYXVsdCgpCiAgICAgICAgICAgICAgICAgICAgfQogICAgICAgICAgICAgICAgKQogICAgICAgICAgICAgICAgLmFkZFRvKG1hcF9iNTA5OGNlODliNDI0YjI5YWEyYjQyNDAyMzUwZTNlYik7CiAgICAgICAgICAgIAogICAgCgogICAgICAgICAgICB2YXIgbWFya2VyXzhkMzA4ODEzM2EwMTQ5NjU4YzBhNmFhMTU5YjRkNjEyID0gTC5tYXJrZXIoCiAgICAgICAgICAgICAgICBbNDEuNzU3ODAxNzUxNiwtODcuNjUzOTgxNTUzMV0sCiAgICAgICAgICAgICAgICB7CiAgICAgICAgICAgICAgICAgICAgaWNvbjogbmV3IEwuSWNvbi5EZWZhdWx0KCkKICAgICAgICAgICAgICAgICAgICB9CiAgICAgICAgICAgICAgICApCiAgICAgICAgICAgICAgICAuYWRkVG8obWFwX2I1MDk4Y2U4OWI0MjRiMjlhYTJiNDI0MDIzNTBlM2ViKTsKICAgICAgICAgICAgCiAgICAKCiAgICAgICAgICAgIHZhciBtYXJrZXJfOTRhMTYwMzY5YmFjNGNlNGEyODJhMDk4ZDFjYWEyNmYgPSBMLm1hcmtlcigKICAgICAgICAgICAgICAgIFs0MS44NDIwNTM2NzA3LC04Ny43MjQ5Njg4NDQ3XSwKICAgICAgICAgICAgICAgIHsKICAgICAgICAgICAgICAgICAgICBpY29uOiBuZXcgTC5JY29uLkRlZmF1bHQoKQogICAgICAgICAgICAgICAgICAgIH0KICAgICAgICAgICAgICAgICkKICAgICAgICAgICAgICAgIC5hZGRUbyhtYXBfYjUwOThjZTg5YjQyNGIyOWFhMmI0MjQwMjM1MGUzZWIpOwogICAgICAgICAgICAKICAgIAoKICAgICAgICAgICAgdmFyIG1hcmtlcl8wYmRjOTkyZWU2Y2E0NGMxYmQ2YWIwN2VhOGI4ZGQwYSA9IEwubWFya2VyKAogICAgICAgICAgICAgICAgWzQxLjk1ODQ0NTIwNzUsLTg3LjY1MzUxMDEyMjddLAogICAgICAgICAgICAgICAgewogICAgICAgICAgICAgICAgICAgIGljb246IG5ldyBMLkljb24uRGVmYXVsdCgpCiAgICAgICAgICAgICAgICAgICAgfQogICAgICAgICAgICAgICAgKQogICAgICAgICAgICAgICAgLmFkZFRvKG1hcF9iNTA5OGNlODliNDI0YjI5YWEyYjQyNDAyMzUwZTNlYik7CiAgICAgICAgICAgIAogICAgCgogICAgICAgICAgICB2YXIgbWFya2VyXzJkMGIzMWFmNWEwYTQ0MGZiYjA3Mjg3MmIxNTI4M2U1ID0gTC5tYXJrZXIoCiAgICAgICAgICAgICAgICBbNDEuNzAzMDI3NDc4MiwtODcuNTMzNTAzMTg0N10sCiAgICAgICAgICAgICAgICB7CiAgICAgICAgICAgICAgICAgICAgaWNvbjogbmV3IEwuSWNvbi5EZWZhdWx0KCkKICAgICAgICAgICAgICAgICAgICB9CiAgICAgICAgICAgICAgICApCiAgICAgICAgICAgICAgICAuYWRkVG8obWFwX2I1MDk4Y2U4OWI0MjRiMjlhYTJiNDI0MDIzNTBlM2ViKTsKICAgICAgICAgICAgCiAgICAKCiAgICAgICAgICAgIHZhciBtYXJrZXJfNWRlODhlOWQ4NmFkNGE0NDlhMzZlOTRmNzcwMzMyNDUgPSBMLm1hcmtlcigKICAgICAgICAgICAgICAgIFs0MS42OTI0NDE2OTI0LC04Ny42NzQxMzI4NjU2XSwKICAgICAgICAgICAgICAgIHsKICAgICAgICAgICAgICAgICAgICBpY29uOiBuZXcgTC5JY29uLkRlZmF1bHQoKQogICAgICAgICAgICAgICAgICAgIH0KICAgICAgICAgICAgICAgICkKICAgICAgICAgICAgICAgIC5hZGRUbyhtYXBfYjUwOThjZTg5YjQyNGIyOWFhMmI0MjQwMjM1MGUzZWIpOwogICAgICAgICAgICAKICAgIAoKICAgICAgICAgICAgdmFyIG1hcmtlcl9jYTRkMzgxYzk5MDU0YmMyYmUwZDc3Y2FjMjA0ZWE5NCA9IEwubWFya2VyKAogICAgICAgICAgICAgICAgWzQxLjg5NzU4NDM1NCwtODcuNjIzMTQ4NzcxMV0sCiAgICAgICAgICAgICAgICB7CiAgICAgICAgICAgICAgICAgICAgaWNvbjogbmV3IEwuSWNvbi5EZWZhdWx0KCkKICAgICAgICAgICAgICAgICAgICB9CiAgICAgICAgICAgICAgICApCiAgICAgICAgICAgICAgICAuYWRkVG8obWFwX2I1MDk4Y2U4OWI0MjRiMjlhYTJiNDI0MDIzNTBlM2ViKTsKICAgICAgICAgICAgCiAgICAKCiAgICAgICAgICAgIHZhciBtYXJrZXJfZDYyZGUzYzE4NjBjNDY2NmEzNjMyOTY5NGU1ODgwOWQgPSBMLm1hcmtlcigKICAgICAgICAgICAgICAgIFs0MS45MzY2NjIxMTg3LC04Ny43ODU4OTE0NTAxXSwKICAgICAgICAgICAgICAgIHsKICAgICAgICAgICAgICAgICAgICBpY29uOiBuZXcgTC5JY29uLkRlZmF1bHQoKQogICAgICAgICAgICAgICAgICAgIH0KICAgICAgICAgICAgICAgICkKICAgICAgICAgICAgICAgIC5hZGRUbyhtYXBfYjUwOThjZTg5YjQyNGIyOWFhMmI0MjQwMjM1MGUzZWIpOwogICAgICAgICAgICAKICAgIAoKICAgICAgICAgICAgdmFyIG1hcmtlcl9jZDQwNThlNjE0MzA0YzcxYmVkOGNkZjE2ZTA5OGI0NiA9IEwubWFya2VyKAogICAgICAgICAgICAgICAgWzQxLjg5NTA0NjUwODgsLTg3Ljc0NzMyOTU0XSwKICAgICAgICAgICAgICAgIHsKICAgICAgICAgICAgICAgICAgICBpY29uOiBuZXcgTC5JY29uLkRlZmF1bHQoKQogICAgICAgICAgICAgICAgICAgIH0KICAgICAgICAgICAgICAgICkKICAgICAgICAgICAgICAgIC5hZGRUbyhtYXBfYjUwOThjZTg5YjQyNGIyOWFhMmI0MjQwMjM1MGUzZWIpOwogICAgICAgICAgICAKICAgIAoKICAgICAgICAgICAgdmFyIG1hcmtlcl8wZTU3YzA5YzM0NjM0NjA4ODYyOGEyYWU1MTg2YmFjMSA9IEwubWFya2VyKAogICAgICAgICAgICAgICAgWzQxLjc3OTMzNDM1ODgsLTg3LjY2ODEyMTU5MDldLAogICAgICAgICAgICAgICAgewogICAgICAgICAgICAgICAgICAgIGljb246IG5ldyBMLkljb24uRGVmYXVsdCgpCiAgICAgICAgICAgICAgICAgICAgfQogICAgICAgICAgICAgICAgKQogICAgICAgICAgICAgICAgLmFkZFRvKG1hcF9iNTA5OGNlODliNDI0YjI5YWEyYjQyNDAyMzUwZTNlYik7CiAgICAgICAgICAgIAogICAgCgogICAgICAgICAgICB2YXIgbWFya2VyX2I3MDFhMzc1YTZhMTQ5YzQ5ZDliMjkxYmRiYmMxYjY0ID0gTC5tYXJrZXIoCiAgICAgICAgICAgICAgICBbNDEuNzc4NjYyMjE5NiwtODcuNzIzNTM4NTcwNV0sCiAgICAgICAgICAgICAgICB7CiAgICAgICAgICAgICAgICAgICAgaWNvbjogbmV3IEwuSWNvbi5EZWZhdWx0KCkKICAgICAgICAgICAgICAgICAgICB9CiAgICAgICAgICAgICAgICApCiAgICAgICAgICAgICAgICAuYWRkVG8obWFwX2I1MDk4Y2U4OWI0MjRiMjlhYTJiNDI0MDIzNTBlM2ViKTsKICAgICAgICAgICAgCiAgICAKCiAgICAgICAgICAgIHZhciBtYXJrZXJfMjhkMzQ4NjQwZjc1NDBkMGE5NTI0OTdkOTUzYzZmY2EgPSBMLm1hcmtlcigKICAgICAgICAgICAgICAgIFs0MS42Nzc4NTA4NzE4LC04Ny42NDI5OTk2ODMzXSwKICAgICAgICAgICAgICAgIHsKICAgICAgICAgICAgICAgICAgICBpY29uOiBuZXcgTC5JY29uLkRlZmF1bHQoKQogICAgICAgICAgICAgICAgICAgIH0KICAgICAgICAgICAgICAgICkKICAgICAgICAgICAgICAgIC5hZGRUbyhtYXBfYjUwOThjZTg5YjQyNGIyOWFhMmI0MjQwMjM1MGUzZWIpOwogICAgICAgICAgICAKICAgIAoKICAgICAgICAgICAgdmFyIG1hcmtlcl9kODkwOTk3YWQ5Y2Q0NjdhOWJiOTRjNTY2ZDMxYjFiOSA9IEwubWFya2VyKAogICAgICAgICAgICAgICAgWzQxLjg5NTc1MjE4OTEsLTg3LjY2ODI2NjU5MDhdLAogICAgICAgICAgICAgICAgewogICAgICAgICAgICAgICAgICAgIGljb246IG5ldyBMLkljb24uRGVmYXVsdCgpCiAgICAgICAgICAgICAgICAgICAgfQogICAgICAgICAgICAgICAgKQogICAgICAgICAgICAgICAgLmFkZFRvKG1hcF9iNTA5OGNlODliNDI0YjI5YWEyYjQyNDAyMzUwZTNlYik7CiAgICAgICAgICAgIAogICAgCgogICAgICAgICAgICB2YXIgbWFya2VyX2VmNmU2OTI2MGQxOTQ1YTY4OTFlN2FiYzViOWRlMmE4ID0gTC5tYXJrZXIoCiAgICAgICAgICAgICAgICBbNDEuNzUxMDYzNjA5NywtODcuNjE0OTUwNjUzNl0sCiAgICAgICAgICAgICAgICB7CiAgICAgICAgICAgICAgICAgICAgaWNvbjogbmV3IEwuSWNvbi5EZWZhdWx0KCkKICAgICAgICAgICAgICAgICAgICB9CiAgICAgICAgICAgICAgICApCiAgICAgICAgICAgICAgICAuYWRkVG8obWFwX2I1MDk4Y2U4OWI0MjRiMjlhYTJiNDI0MDIzNTBlM2ViKTsKICAgICAgICAgICAgCiAgICAKCiAgICAgICAgICAgIHZhciBtYXJrZXJfNWQ5YTNiNmZlNDI4NDkwODg2YzUxYjk3MjgyODVkOTIgPSBMLm1hcmtlcigKICAgICAgICAgICAgICAgIFs0MS43MjA5MzQ4MTI5LC04Ny42NDMwOTM5NTIyXSwKICAgICAgICAgICAgICAgIHsKICAgICAgICAgICAgICAgICAgICBpY29uOiBuZXcgTC5JY29uLkRlZmF1bHQoKQogICAgICAgICAgICAgICAgICAgIH0KICAgICAgICAgICAgICAgICkKICAgICAgICAgICAgICAgIC5hZGRUbyhtYXBfYjUwOThjZTg5YjQyNGIyOWFhMmI0MjQwMjM1MGUzZWIpOwogICAgICAgICAgICAKICAgIAoKICAgICAgICAgICAgdmFyIG1hcmtlcl80MDAyMmFlOGEwNjc0NGUzYTNhYmEwM2VhOWNjNzczMCA9IEwubWFya2VyKAogICAgICAgICAgICAgICAgWzQxLjczODMyMzk5NzksLTg3LjcwMjEzMDEwNTZdLAogICAgICAgICAgICAgICAgewogICAgICAgICAgICAgICAgICAgIGljb246IG5ldyBMLkljb24uRGVmYXVsdCgpCiAgICAgICAgICAgICAgICAgICAgfQogICAgICAgICAgICAgICAgKQogICAgICAgICAgICAgICAgLmFkZFRvKG1hcF9iNTA5OGNlODliNDI0YjI5YWEyYjQyNDAyMzUwZTNlYik7CiAgICAgICAgICAgIAo8L3NjcmlwdD4=\" style=\"position:absolute;width:100%;height:100%;left:0;top:0;border:none !important;\" allowfullscreen webkitallowfullscreen mozallowfullscreen></iframe></div></div>"
      ],
      "text/plain": [
       "<folium.folium.Map at 0x7ffa514001d0>"
      ]
     },
     "execution_count": 12,
     "metadata": {},
     "output_type": "execute_result"
    }
   ],
   "source": [
    "import folium\n",
    "map_osm = folium.Map(location=[41.878, -87.629], zoom_start=11)\n",
    "for library in libraries:\n",
    "    lt = library.y\n",
    "    lg = library.x\n",
    "    folium.Marker([lt, lg]).add_to(map_osm)\n",
    "map_osm"
   ]
  },
  {
   "cell_type": "markdown",
   "metadata": {},
   "source": [
    "After running the above code, the data is displayed but it is impossible to determine where to ideally open the coffee shops by just looking at the map.\n",
    "\n",
    "Let's set up DOcplex to write and solve an optimization model that will help us determine where to locate the coffee shops in an optimal way."
   ]
  },
  {
   "cell_type": "markdown",
   "metadata": {},
   "source": [
    "### Step 5: Set up the prescriptive model"
   ]
  },
  {
   "cell_type": "code",
   "execution_count": 13,
   "metadata": {},
   "outputs": [
    {
     "name": "stdout",
     "output_type": "stream",
     "text": [
      "* system is: Linux 64bit\n",
      "* Python is present, version is 2.7.11\n",
      "* docplex is present, version is (2, 2, 36)\n",
      "* CPLEX wrapper is not available\n"
     ]
    }
   ],
   "source": [
    "from docplex.mp.environment import Environment\n",
    "env = Environment()\n",
    "env.print_information()"
   ]
  },
  {
   "cell_type": "markdown",
   "metadata": {},
   "source": [
    "#### Create the DOcplex model\n",
    "The model contains all the business constraints and defines the objective."
   ]
  },
  {
   "cell_type": "code",
   "execution_count": 14,
   "metadata": {},
   "outputs": [],
   "source": [
    "from docplex.mp.model import Model\n",
    "\n",
    "mdl = Model(\"coffee shops\")"
   ]
  },
  {
   "cell_type": "markdown",
   "metadata": {},
   "source": [
    "#### Define the decision variables"
   ]
  },
  {
   "cell_type": "code",
   "execution_count": 15,
   "metadata": {},
   "outputs": [],
   "source": [
    "BIGNUM = 999999999\n",
    "\n",
    "# Ensure unique points\n",
    "libraries = set(libraries)\n",
    "# For simplicity, let's consider that coffee shops candidate locations are the same as libraries locations.\n",
    "# That is: any library location can also be selected as a coffee shop.\n",
    "coffeeshop_locations = libraries\n",
    "\n",
    "# Decision vars\n",
    "# Binary vars indicating which coffee shop locations will be actually selected\n",
    "coffeeshop_vars = mdl.binary_var_dict(coffeeshop_locations, name=\"is_coffeeshop\")\n",
    "#\n",
    "# Binary vars representing the \"assigned\" libraries for each coffee shop\n",
    "link_vars = mdl.binary_var_matrix(coffeeshop_locations, libraries, \"link\")"
   ]
  },
  {
   "cell_type": "markdown",
   "metadata": {},
   "source": [
    "#### Express the business constraints\n",
    "First constraint: if the distance is suspect, it needs to be excluded from the problem."
   ]
  },
  {
   "cell_type": "code",
   "execution_count": 16,
   "metadata": {},
   "outputs": [],
   "source": [
    "for c_loc in coffeeshop_locations:\n",
    "    for b in libraries:\n",
    "        if get_distance(c_loc, b) >= BIGNUM:\n",
    "            mdl.add_constraint(link_vars[c_loc, b] == 0, \"ct_forbid_{0!s}_{1!s}\".format(c_loc, b))"
   ]
  },
  {
   "cell_type": "markdown",
   "metadata": {},
   "source": [
    "Second constraint: each library must be linked to a coffee shop that is open."
   ]
  },
  {
   "cell_type": "code",
   "execution_count": 17,
   "metadata": {},
   "outputs": [
    {
     "name": "stdout",
     "output_type": "stream",
     "text": [
      "Model: coffee shops\n",
      " - number of variables: 6480\n",
      "   - binary=6480, integer=0, continuous=0\n",
      " - number of constraints: 6400\n",
      "   - linear=6400\n",
      " - parameters: defaults\n"
     ]
    }
   ],
   "source": [
    "mdl.add_constraints(link_vars[c_loc, b] <= coffeeshop_vars[c_loc]\n",
    "                   for b in libraries\n",
    "                   for c_loc in coffeeshop_locations)\n",
    "mdl.print_information()"
   ]
  },
  {
   "cell_type": "markdown",
   "metadata": {},
   "source": [
    "Third constraint: each library is linked to exactly one coffee shop."
   ]
  },
  {
   "cell_type": "code",
   "execution_count": 18,
   "metadata": {},
   "outputs": [
    {
     "name": "stdout",
     "output_type": "stream",
     "text": [
      "Model: coffee shops\n",
      " - number of variables: 6480\n",
      "   - binary=6480, integer=0, continuous=0\n",
      " - number of constraints: 6480\n",
      "   - linear=6480\n",
      " - parameters: defaults\n"
     ]
    }
   ],
   "source": [
    "mdl.add_constraints(mdl.sum(link_vars[c_loc, b] for c_loc in coffeeshop_locations) == 1\n",
    "                   for b in libraries)\n",
    "mdl.print_information()"
   ]
  },
  {
   "cell_type": "markdown",
   "metadata": {},
   "source": [
    "Fourth constraint: there is a fixed number of coffee shops to open."
   ]
  },
  {
   "cell_type": "code",
   "execution_count": 19,
   "metadata": {},
   "outputs": [
    {
     "name": "stdout",
     "output_type": "stream",
     "text": [
      "Model: coffee shops\n",
      " - number of variables: 6480\n",
      "   - binary=6480, integer=0, continuous=0\n",
      " - number of constraints: 6481\n",
      "   - linear=6481\n",
      " - parameters: defaults\n"
     ]
    }
   ],
   "source": [
    "# Total nb of open coffee shops\n",
    "mdl.add_constraint(mdl.sum(coffeeshop_vars[c_loc] for c_loc in coffeeshop_locations) == nb_shops)\n",
    "\n",
    "# Print model information\n",
    "mdl.print_information()"
   ]
  },
  {
   "cell_type": "markdown",
   "metadata": {},
   "source": [
    "#### Express the objective\n",
    "\n",
    "The objective is to minimize the total distance from libraries to coffee shops so that a book reader always gets to our coffee shop easily.\n"
   ]
  },
  {
   "cell_type": "code",
   "execution_count": 20,
   "metadata": {},
   "outputs": [],
   "source": [
    "# Minimize total distance from points to hubs\n",
    "total_distance = mdl.sum(link_vars[c_loc, b] * get_distance(c_loc, b) for c_loc in coffeeshop_locations for b in libraries)\n",
    "mdl.minimize(total_distance)"
   ]
  },
  {
   "cell_type": "markdown",
   "metadata": {},
   "source": [
    "#### Solve with the Decision Optimization solve service\n",
    "\n",
    "Solve the model on the cloud. "
   ]
  },
  {
   "cell_type": "code",
   "execution_count": 21,
   "metadata": {},
   "outputs": [
    {
     "name": "stdout",
     "output_type": "stream",
     "text": [
      "# coffee shops locations = 80\n",
      "# coffee shops           = 5\n"
     ]
    }
   ],
   "source": [
    "print(\"# coffee shops locations = %d\" % len(coffeeshop_locations))\n",
    "print(\"# coffee shops           = %d\" % nb_shops)\n",
    "\n",
    "assert mdl.solve(url=url, key=key), \"!!! Solve of the model fails\""
   ]
  },
  {
   "cell_type": "markdown",
   "metadata": {
    "render": false
   },
   "source": [
    "### Step 6: Investigate the solution and then run an example analysis\n",
    "\n",
    "The solution can be analyzed by displaying the location of the coffee shops on a map."
   ]
  },
  {
   "cell_type": "code",
   "execution_count": 22,
   "metadata": {
    "render": false
   },
   "outputs": [
    {
     "name": "stdout",
     "output_type": "stream",
     "text": [
      "Total distance = 209.812\n",
      "# coffee shops  = 5\n",
      "new coffee shop: P_6 S. Hoyne Avenue_46\n",
      "new coffee shop: P_9525 S. Halsted Street_79\n",
      "new coffee shop: P_2111 W. 47th Street_7\n",
      "new coffee shop: P_4455 N. Lincoln Avenue_65\n",
      "new coffee shop: P_6100 W. Irving Park Road_5\n"
     ]
    }
   ],
   "source": [
    "total_distance = mdl.objective_value\n",
    "open_coffeeshops = [c_loc for c_loc in coffeeshop_locations if coffeeshop_vars[c_loc].solution_value == 1]\n",
    "not_coffeeshops = [c_loc for c_loc in coffeeshop_locations if c_loc not in open_coffeeshops]\n",
    "edges = [(c_loc, b) for b in libraries for c_loc in coffeeshop_locations if int(link_vars[c_loc, b]) == 1]\n",
    "\n",
    "print(\"Total distance = %g\" % total_distance)\n",
    "print(\"# coffee shops  = {0}\".format(len(open_coffeeshops)))\n",
    "for c in open_coffeeshops:\n",
    "    print(\"new coffee shop: {0!s}\".format(c))"
   ]
  },
  {
   "cell_type": "markdown",
   "metadata": {},
   "source": [
    "#### Displaying the solution\n",
    "Coffee shops are highlighted in red."
   ]
  },
  {
   "cell_type": "code",
   "execution_count": 23,
   "metadata": {},
   "outputs": [
    {
     "name": "stderr",
     "output_type": "stream",
     "text": [
      "/usr/local/src/bluemix_jupyter_bundle.v57/notebook/lib/python2.7/site-packages/ipykernel/__main__.py:17: FutureWarning: Method `add_children` is deprecated. Please use `add_child` instead.\n"
     ]
    },
    {
     "data": {
      "text/html": [
       "<div style=\"width:100%;\"><div style=\"position:relative;width:100%;height:0;padding-bottom:60%;\"><iframe src=\"data:text/html;charset=utf-8;base64,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\" style=\"position:absolute;width:100%;height:100%;left:0;top:0;border:none !important;\" allowfullscreen webkitallowfullscreen mozallowfullscreen></iframe></div></div>"
      ],
      "text/plain": [
       "<folium.folium.Map at 0x7ffa10cee710>"
      ]
     },
     "execution_count": 23,
     "metadata": {},
     "output_type": "execute_result"
    }
   ],
   "source": [
    "import folium\n",
    "map_osm = folium.Map(location=[41.878, -87.629], zoom_start=11)\n",
    "for coffeeshop in open_coffeeshops:\n",
    "    lt = coffeeshop.y\n",
    "    lg = coffeeshop.x\n",
    "    folium.Marker([lt, lg], icon=folium.Icon(color='red',icon='info-sign')).add_to(map_osm)\n",
    "    \n",
    "for b in libraries:\n",
    "    if b not in open_coffeeshops:\n",
    "        lt = b.y\n",
    "        lg = b.x\n",
    "        folium.Marker([lt, lg]).add_to(map_osm)\n",
    "    \n",
    "\n",
    "for (c, b) in edges:\n",
    "    coordinates = [[c.y, c.x], [b.y, b.x]]\n",
    "    map_osm.add_children(folium.PolyLine(coordinates, color='#FF0000', weight=5))\n",
    "\n",
    "map_osm"
   ]
  },
  {
   "cell_type": "markdown",
   "metadata": {
    "collapsed": true
   },
   "source": [
    "## Summary\n",
    "\n",
    "\n",
    "You learned how to set up and use IBM Decision Optimization CPLEX Modeling for Python to formulate a Mathematical Programming model and solve it with IBM Decision Optimization on Cloud."
   ]
  },
  {
   "cell_type": "markdown",
   "metadata": {},
   "source": [
    "## Author\n",
    "\n",
    "\n",
    "<b>Vincent Beraudier</b> is Software Architect and Program Manager for Prescriptive Analytics and Decision Optimization in \n",
    "IBM Analytics. With IBM and ILOG for more than 16 years, he has been responsible for optimization model development tools: OPL and DOcplex. OPL, the Optimization Programming Language, provides a natural mathematical description of optimization models. DOcplex, IBM's CPLEX modeling for Python offering, is an open source project that aims at leveraging the scientific ecosystem of Python and Jupyter/Zeppeling Notebooks. It can solve Optimization Mathematical Programming models with CPLEX cloud service (DOcplexcloud) or with CPLEX local solver, without any code change.\n"
   ]
  },
  {
   "cell_type": "markdown",
   "metadata": {
    "collapsed": true
   },
   "source": [
    "## References\n",
    "* [CPLEX Modeling for Python documentation](https://rawgit.com/IBMDecisionOptimization/docplex-doc/master/docs/index.html)\n",
    "* [Decision Optimization on Cloud](https://developer.ibm.com/docloud/)\n",
    "* Need help with DOcplex or to report a bug? Please go [here](https://developer.ibm.com/answers/smartspace/docloud).\n",
    "* Contact us at dofeedback@wwpdl.vnet.ibm.com."
   ]
  },
  {
   "cell_type": "markdown",
   "metadata": {},
   "source": [
    "<b>Copyright © 2017 IBM. This notebook and its source code are released under the terms of the MIT License.</b>"
   ]
  }
 ],
 "metadata": {
  "celltoolbar": "Dashboard",
  "kernelspec": {
   "display_name": "Python 2 with Spark 2.0",
   "language": "python",
   "name": "python2-spark20"
  },
  "language_info": {
   "codemirror_mode": {
    "name": "ipython",
    "version": 2
   },
   "file_extension": ".py",
   "mimetype": "text/x-python",
   "name": "python",
   "nbconvert_exporter": "python",
   "pygments_lexer": "ipython2",
   "version": "2.7.11"
  }
 },
 "nbformat": 4,
 "nbformat_minor": 1
}
