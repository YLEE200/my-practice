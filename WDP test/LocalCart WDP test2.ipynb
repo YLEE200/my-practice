{
 "cells": [
  {
   "cell_type": "code",
   "execution_count": 2,
   "metadata": {},
   "outputs": [
    {
     "name": "stdout",
     "output_type": "stream",
     "text": [
      "Requirement already satisfied: redis in /gpfs/global_fs01/sym_shared/YPProdSpark/user/s432-d1f89c5e838dca-563e907592cb/.local/lib/python2.7/site-packages\n",
      "Simulation complete\n"
     ]
    }
   ],
   "source": [
    "\n",
    "\n",
    "!pip install redis\n",
    "import redis\n",
    "import time\n",
    "\n",
    "i = 1\n",
    "while True:\n",
    "    # Connect to Redis\n",
    "    # TODO Replace **HOSTNAME**, **PORT** and **PASSWORD**. The line should look as follows: r = redis.StrictRedis(host='myhost.mydomain', port=12345, db=0, password='my.password')\n",
    "    r = redis.StrictRedis(host='sl-us-south-1-portal.0.dblayer.com', port=19146, db=0, password='MORUMGQVYSOOLQQX')\n",
    "    i = i + 1\n",
    "    # Insert dummy aggregated data values for demonstration purposes\n",
    "    r.hset('funnel', 'basket_count', 3*i);\n",
    "    r.hset('funnel', 'basket_total', 2*i);\n",
    "    r.hset('funnel', 'checkout_count', i);\n",
    "    r.hset('funnel', 'checkout_total', i*75);\n",
    "    r.hset('funnel', 'login_count', 5*i);\n",
    "    time.sleep(2)       \n",
    "    if (i > 100):\n",
    "        print 'Simulation complete'\n",
    "        break;\n",
    "\n"
   ]
  },
  {
   "cell_type": "code",
   "execution_count": null,
   "metadata": {
    "collapsed": true
   },
   "outputs": [],
   "source": []
  }
 ],
 "metadata": {
  "kernelspec": {
   "display_name": "Python 2 with Spark 2.0",
   "language": "python",
   "name": "python2-spark20"
  },
  "language_info": {
   "codemirror_mode": {
    "name": "ipython",
    "version": 2
   },
   "file_extension": ".py",
   "mimetype": "text/x-python",
   "name": "python",
   "nbconvert_exporter": "python",
   "pygments_lexer": "ipython2",
   "version": "2.7.11"
  }
 },
 "nbformat": 4,
 "nbformat_minor": 1
}
