{
 "cells": [
  {
   "cell_type": "markdown",
   "metadata": {},
   "source": [
    "# Learn the basics about notebooks and Apache Spark\n",
    "\n",
    "This notebook introduces you to the basics of analytics notebooks and explains what Apache Spark is and how to use Spark in notebooks. The notebook shows you how to load data into the notebook, parse and explore the data, run queries on the data to extract information, plot your analysis results, and save your result in Object Storage.\n",
    "\n",
    "This notebooks runs on Python 2 with Spark 1.6.\n",
    "\n",
    "## Table of contents\n",
    "- [What is Apache Spark](#apache_spark)\n",
    "- [Get data](#data_set)\n",
    "- [Load data](#load_data)\n",
    "- [Access data](#access_data)\n",
    "- [Add header](#add_header)\n",
    "- [Parse data](#parse_data)\n",
    "- [Explore data](#explore_data)\n",
    "- [Use Spark SQL](#use_spark_sql)\n",
    "- [Save results in Object Storage](#save)\n",
    "- [Summary](#summary)"
   ]
  },
  {
   "cell_type": "markdown",
   "metadata": {},
   "source": [
    "<a id=\"apache_spark\"></a>\n",
    "## What is Apache Spark\n",
    "\n",
    "[Spark](http://spark.apache.org/) is a fast open-source engine for large-scale data processing. It is built for speed and ease of use. Through the advanced DAG execution engine that supports cyclic data flow and in-memory computing, programs can run up to 100 times faster than Hadoop MapReduce in memory, or 10 times faster on disc.\n",
    "\n",
    "Spark consists of multiple components:\n",
    "\n",
    "* Spark Core is the underlying computation engine with the fundamental programming abstraction called resilient distributed datasets (RDDs)\n",
    "* Spark SQL provides a new data abstraction called DataFrames for structured data processing with SQL and domain-specific language\n",
    "* MLlib is a scalable machine learning framework for delivering fast distributed algorithms for mining big data\n",
    "* Streaming leverages Spark's fast scheduling capability to perform real-time analysis on streams of new data\n",
    "* GraphX is the graph processing framework for the analysis of graph structured data\n",
    "\n",
    "In this sample, you will focus on Spark Core and Spark SQL by using the Python API."
   ]
  },
  {
   "cell_type": "markdown",
   "metadata": {},
   "source": [
    "<a id=\"data_set\"></a>\n",
    "## Get data\n",
    "\n",
    "In the sample, you will use Apache Spark to analyze weather data collected from weather stations in 2015. This data is provided by the NOAA National Climatic Data Center (NCDC).\n",
    "\n",
    "To get at the raw data from the NOAA National Climatic Data Center (NCDC):\n",
    "\n",
    "1. Visit the NCDC site at http://www.ncdc.noaa.gov/data-access/quick-links.\n",
    "2. Click **Global Historical Climatology Network-Daily (GHCN-D)**.\n",
    "3. Click **GHCN-Daily FTP Access**.\n",
    "4. Click the `by_year` folder.\n",
    "5. Scroll to the bottom and click **2015.cs.gz** to download the data set.\n",
    "6. After the file was downloaded, extract it.\n",
    "7. Click **ghcn-daily-by_year-format.rtf** to download additional infromation, e.g. header, for the data set."
   ]
  },
  {
   "cell_type": "markdown",
   "metadata": {},
   "source": [
    "\n",
    "The data in the base file has the following format:\n",
    "\n",
    "<table border=\"1\" style=\"width:90%\">\n",
    "  <tr>\n",
    "    <th>STATION</th><th>DATE</th><th>METRIC</th><th>VALUE</th><th>C5</th><th>C6</th><th>C7</th><th>C8</th>\n",
    "  </tr>\n",
    "  <tr>\n",
    "    <td>US1FLSL0019</td><td>20150101</td><td>PRCP</td><td>173</td><td></td><td></td><td>N</td>\n",
    "  </tr>\n",
    "  <tr>\n",
    "    <td>US1TXTV0133</td><td>20150101</td><td>PRCP</td><td>119</td><td></td><td></td><td>N</td>\n",
    "  </tr>\n",
    "  <tr>\n",
    "    <td>USC00178998</td><td>20150101</td><td>TMAX</td><td>-33</td><td></td><td></td><td>7</td><td>100</td>\n",
    "  </tr>\n",
    "  <tr>\n",
    "    <td>...</td><td>...</td><td>...</td><td>...</td><td>...</td><td>...</td><td>...</td>\n",
    "  </tr>\n",
    "</table>\n",
    "<p>\n",
    "\n",
    "Each row contains a weather station identifier, a date, a metric which is collected (like precipitation, daily maximum and minimum temperatures, temperature at the time of observation, snowfall, snow depth, and so on) and some additional values.\n",
    "\n",
    "**Note**: The header is not included in the CSV file and is documented in **ghcn-daily-by_year-format.rtf**. It was added to the table above for sake of vividness."
   ]
  },
  {
   "cell_type": "markdown",
   "metadata": {},
   "source": [
    "<a id=\"load_data\"></a>\n",
    "## Load data \n",
    "In the notebook, load the data file: \n",
    "\n",
    "1. Click the **Data** icon on the notebook action bar. \n",
    "1. Click **Add Source** and select **From file** and browse to the 2015.csv file.\n",
    "\n",
    "The data file is listed on the **Files** pane in the notebook and is stored in Object Storage.\n",
    "\n",
    "**Note**: Because the CSV file is relatively large, it might take a few minutes to load the data file. "
   ]
  },
  {
   "cell_type": "markdown",
   "metadata": {},
   "source": [
    "<a id=\"access_data\"></a>\n",
    "## Access data\n",
    "Before you can access data in the data file in the Object Storage, you must set the Hadoop configuration with the Object Storage credentials. \n",
    "\n",
    "**Note**: You will not be using Hadoop in this sample; however Spark leverages some Hadoop components."
   ]
  },
  {
   "cell_type": "markdown",
   "metadata": {},
   "source": [
    "To add the code to access the data file which is stored in Object Storage and set the Hadoop configuration, click the next code cell and select **Insert to code>Spark RDD** below the data file in the `Data` pane in the notebook.\n",
    "\n",
    "This function inserts the setup code for the preconfigured [`SparkContext`](https://spark.apache.org/docs/1.6.0/api/python/pyspark.html#pyspark.SparkContext). Then the data is loaded into a `Spark RDD` which is created by using the `SparkContext`.\n",
    "\n",
    "The credentials for accessing the CSV file are included in the generated code.  "
   ]
  },
  {
   "cell_type": "markdown",
   "metadata": {},
   "source": [
    "<div class=\"alert alert-block alert-info\">Note: The `Spark RDD` that is created and loaded with data for you is given a generic name. Rename the RDD to `weather` and run the code cell to proceed.</div>"
   ]
  },
  {
   "cell_type": "code",
   "execution_count": 1,
   "metadata": {},
   "outputs": [
    {
     "data": {
      "text/plain": [
       "[u'ASN00015643,20150101,TMAX,373,,,a,',\n",
       " u'ASN00015643,20150101,TMIN,222,,,a,',\n",
       " u'ASN00015643,20150101,PRCP,0,,,a,',\n",
       " u'US1MTMH0019,20150101,PRCP,0,,,N,',\n",
       " u'US1MTMH0019,20150101,SNOW,0,,,N,']"
      ]
     },
     "execution_count": 1,
     "metadata": {},
     "output_type": "execute_result"
    }
   ],
   "source": [
    "import ibmos2spark\n",
    "\n",
    "# @hidden_cell\n",
    "credentials = {\n",
    "    'auth_url': 'https://identity.open.softlayer.com',\n",
    "    'project_id': 'f1a0c90407004288832edb2eebb37f36',\n",
    "    'region': 'dallas',\n",
    "    'user_id': 'ced0d2b6162c4fdaa8a7c5858a606b00',\n",
    "    'username': 'member_e8d812273e8330218094e5dd0cd5be03db26aec1',\n",
    "    'password': 'Y-27[uzsL3B-/I5u'\n",
    "}\n",
    "\n",
    "configuration_name = 'os_fcf1c90868844bc1ab7d4fffe6063140_configs'\n",
    "bmos = ibmos2spark.bluemix(sc, credentials, configuration_name)\n",
    "\n",
    "rdd_data_1 = sc.textFile(bmos.url('Baseproject', '2015.csv'))\n",
    "rdd_data_1.take(5)\n"
   ]
  },
  {
   "cell_type": "code",
   "execution_count": 2,
   "metadata": {},
   "outputs": [
    {
     "data": {
      "text/plain": [
       "[u'US1FLSL0019,20150101,PRCP,173,,,N,',\n",
       " u'US1TXTV0133,20150101,PRCP,119,,,N,',\n",
       " u'USC00178998,20150101,TMAX,-33,,,7,0700',\n",
       " u'USC00178998,20150101,TMIN,-167,,,7,0700',\n",
       " u'USC00178998,20150101,TOBS,-67,,,7,0700']"
      ]
     },
     "execution_count": 2,
     "metadata": {},
     "output_type": "execute_result"
    }
   ],
   "source": [
    "\n",
    "# @hidden_cell\n",
    "# This function is used to setup the access of Spark to your Object Storage. The definition contains your credentials.\n",
    "# You might want to remove those credentials before you share your notebook.\n",
    "def set_hadoop_config_with_credentials_2a91b8b1599e40bfa11561a8b663b9ac(name):\n",
    "    \"\"\"This function sets the Hadoop configuration so it is possible to\n",
    "    access data from Bluemix Object Storage using Spark\"\"\"\n",
    "\n",
    "    prefix = 'fs.swift.service.' + name\n",
    "    hconf = sc._jsc.hadoopConfiguration()\n",
    "    hconf.set(prefix + '.auth.url', 'https://identity.open.softlayer.com'+'/v3/auth/tokens')\n",
    "    hconf.set(prefix + '.auth.endpoint.prefix', 'endpoints')\n",
    "    hconf.set(prefix + '.tenant', 'd49853da350f47ac85559bb77fabad12')\n",
    "    hconf.set(prefix + '.username', 'b3ea6ba9f55a4c6f9ff1f0a6a4dbd03c')\n",
    "    hconf.set(prefix + '.password', 'KaZh8Gje93]3o3#s')\n",
    "    hconf.setInt(prefix + '.http.port', 8080)\n",
    "    hconf.set(prefix + '.region', 'dallas')\n",
    "    hconf.setBoolean(prefix + '.public', False)\n",
    "\n",
    "# you can choose any name\n",
    "name = 'keystone'\n",
    "set_hadoop_config_with_credentials_2a91b8b1599e40bfa11561a8b663b9ac(name)\n",
    "\n",
    "weather = sc.textFile(\"swift://SparkPOT.\" + name + \"/2015.csv\")\n",
    "weather.take(5)\n"
   ]
  },
  {
   "cell_type": "markdown",
   "metadata": {},
   "source": [
    "Now you can access the data by using the preconfigured `SparkContext` function in your notebook."
   ]
  },
  {
   "cell_type": "markdown",
   "metadata": {},
   "source": [
    "The RDD you created is a collection of strings corresponding to the individual lines in the raw data file. It is also important to remember that the RDD is defined but not instantiated. By applying an action like `count` to the RDD, you effectively instantiate the RDD."
   ]
  },
  {
   "cell_type": "code",
   "execution_count": 3,
   "metadata": {},
   "outputs": [
    {
     "name": "stdout",
     "output_type": "stream",
     "text": [
      "Total records in the 2015.csv dataset: 34326751\n"
     ]
    }
   ],
   "source": [
    "print \"Total records in the 2015.csv dataset:\", weather.count()"
   ]
  },
  {
   "cell_type": "markdown",
   "metadata": {},
   "source": [
    "Apply another action to the same RDD that reads the first row of the data."
   ]
  },
  {
   "cell_type": "code",
   "execution_count": 4,
   "metadata": {},
   "outputs": [
    {
     "name": "stdout",
     "output_type": "stream",
     "text": [
      "The first row in the 2015.csv dataset: US1FLSL0019,20150101,PRCP,173,,,N,\n"
     ]
    }
   ],
   "source": [
    "print \"The first row in the 2015.csv dataset:\", weather.first()"
   ]
  },
  {
   "cell_type": "markdown",
   "metadata": {},
   "source": [
    "<a id=\"add_header\"></a>\n",
    "## Add header"
   ]
  },
  {
   "cell_type": "markdown",
   "metadata": {},
   "source": [
    "Since the header is not included in the CSV file, it has to be added programmatically.  "
   ]
  },
  {
   "cell_type": "code",
   "execution_count": 5,
   "metadata": {},
   "outputs": [
    {
     "data": {
      "text/plain": [
       "['STATION,DATE,METRIC,VALUE,C5,C6,C7,C8',\n",
       " u'US1FLSL0019,20150101,PRCP,173,,,N,']"
      ]
     },
     "execution_count": 5,
     "metadata": {},
     "output_type": "execute_result"
    }
   ],
   "source": [
    "header = sc.parallelize(['STATION,DATE,METRIC,VALUE,C5,C6,C7,C8'])\n",
    "union = header.union(weather)\n",
    "weather = union\n",
    "weather.take(2)"
   ]
  },
  {
   "cell_type": "markdown",
   "metadata": {},
   "source": [
    "<a id=\"parse_data\"></a>\n",
    "## Parse data"
   ]
  },
  {
   "cell_type": "markdown",
   "metadata": {
    "collapsed": true
   },
   "source": [
    "To really begin working with the data, you need to parse it into columns. You can do this by mapping each line in the RDD to a function that splits the line by commas.\n",
    "\n",
    "The lambda notation in Python is used to create anonymous functions, in other words, functions which are not bound to a name. This concept is used in the previous code cell to pass a function as a parameter to the `map` function. The anonymous function receives each line from the `weather` RDD  and splits it at comma boundaries. As a result, the new `weatherParse` RDD is defined as a list of lists. Each list in `weatherParse` corresponds to a line in `weather`, and the strings in each list are the individual elements of the row."
   ]
  },
  {
   "cell_type": "code",
   "execution_count": 6,
   "metadata": {},
   "outputs": [],
   "source": [
    "weatherParse = weather.map(lambda line : line.split(\",\"))"
   ]
  },
  {
   "cell_type": "markdown",
   "metadata": {},
   "source": [
    "Run the next cell for a quick look at the first list:"
   ]
  },
  {
   "cell_type": "code",
   "execution_count": 7,
   "metadata": {
    "scrolled": true
   },
   "outputs": [
    {
     "data": {
      "text/plain": [
       "['STATION', 'DATE', 'METRIC', 'VALUE', 'C5', 'C6', 'C7', 'C8']"
      ]
     },
     "execution_count": 7,
     "metadata": {},
     "output_type": "execute_result"
    }
   ],
   "source": [
    "weatherParse.first()"
   ]
  },
  {
   "cell_type": "markdown",
   "metadata": {},
   "source": [
    "Now take a look at the individual elements of this first list where the first entry starts at offset zero."
   ]
  },
  {
   "cell_type": "code",
   "execution_count": 8,
   "metadata": {
    "scrolled": true
   },
   "outputs": [
    {
     "data": {
      "text/plain": [
       "'STATION'"
      ]
     },
     "execution_count": 8,
     "metadata": {},
     "output_type": "execute_result"
    }
   ],
   "source": [
    "weatherParse.first()[0]"
   ]
  },
  {
   "cell_type": "markdown",
   "metadata": {},
   "source": [
    "You can also pull elements by index."
   ]
  },
  {
   "cell_type": "code",
   "execution_count": 9,
   "metadata": {},
   "outputs": [
    {
     "data": {
      "text/plain": [
       "'METRIC'"
      ]
     },
     "execution_count": 9,
     "metadata": {},
     "output_type": "execute_result"
    }
   ],
   "source": [
    "weatherParse.first()[2]"
   ]
  },
  {
   "cell_type": "markdown",
   "metadata": {},
   "source": [
    "<a id=\"explore_data\"></a>\n",
    "## Explore data\n",
    "To better consume the precipitation data, it has to be converted or mapped from one raw form into another format.\n"
   ]
  },
  {
   "cell_type": "markdown",
   "metadata": {},
   "source": [
    "### Calculate the average precipitation by weather station\n",
    "To calculate the average precipitation that was recorded at each weather station in the data set, reduce the data set by selecting only those rows with precipitation data values, in other words, those rows where the METRIC column equals `PRCP`."
   ]
  },
  {
   "cell_type": "code",
   "execution_count": 10,
   "metadata": {},
   "outputs": [],
   "source": [
    "weatherPrecp = weatherParse.filter(lambda x: x[2] == \"PRCP\")"
   ]
  },
  {
   "cell_type": "markdown",
   "metadata": {},
   "source": [
    "The `weatherPrecp` RDD that you created contains a list of pairs (v1, v2), where v1 is a weather station identifier and v2 is one precipitation data point (one day) for that station. Table 1. depicts this structure."
   ]
  },
  {
   "cell_type": "markdown",
   "metadata": {},
   "source": [
    "#### Table 1.\n",
    "\n",
    "<table border=\"1\" style=\"width:80%\">\n",
    "  <tr>\n",
    "    <th>Key</th><th>Value</th>\n",
    "  </tr>\n",
    "  <tr>\n",
    "    <td>Station 1</td><td>Value 1</td>\n",
    "  </tr>\n",
    "  <tr>\n",
    "    <td>Station 2</td><td>Value 2</td>\n",
    "  </tr>\n",
    "    <tr>\n",
    "    <td>Station 1</td><td>Value 3</td>\n",
    "  </tr>\n",
    "    <tr>\n",
    "    <td>Station 2</td><td>Value 4</td>\n",
    "  </tr>\n",
    "    <tr>\n",
    "    <td>Station 3</td><td>Value 5</td>\n",
    "  </tr>\n",
    "  <tr>\n",
    "    <td>...</td><td>...</td>\n",
    "  </tr>\n",
    "</table>\n",
    "<p>"
   ]
  },
  {
   "cell_type": "markdown",
   "metadata": {},
   "source": [
    "Next, transform (map) this data set into a new one where each row (data pair) is augmented with the value `1`. Table 2. shows this new structure."
   ]
  },
  {
   "cell_type": "markdown",
   "metadata": {},
   "source": [
    "#### Table 2.\n",
    "\n",
    "<table border=\"1\" style=\"width:80%\">\n",
    "  <tr>\n",
    "    <th>Key</th><th>Value</th>\n",
    "  </tr>\n",
    "  <tr>\n",
    "    <td>Station 1</td><td>(Value 1,1)</td>\n",
    "  </tr>\n",
    "  <tr>\n",
    "    <td>Station 2</td><td>(Value 2,1)</td>\n",
    "  </tr>\n",
    "    <tr>\n",
    "    <td>Station 1</td><td>(Value 3,1)</td>\n",
    "  </tr>\n",
    "    <tr>\n",
    "    <td>Station 2</td><td>(Value 4,1)</td>\n",
    "  </tr>\n",
    "    <tr>\n",
    "    <td>Station 3</td><td>(Value 5,1)</td>\n",
    "  </tr>\n",
    "  <tr>\n",
    "    <td>...</td><td>...</td>\n",
    "  </tr>\n",
    "</table>\n",
    "<p>"
   ]
  },
  {
   "cell_type": "markdown",
   "metadata": {},
   "source": [
    "The reason for this mapping is to reduce the table into the form represented by Table 3."
   ]
  },
  {
   "cell_type": "markdown",
   "metadata": {},
   "source": [
    "#### Table 3.\n",
    "\n",
    "<table border=\"1\" style=\"width:80%\">\n",
    "  <tr>\n",
    "    <th>Key</th><th>Value</th>\n",
    "  </tr>\n",
    "  <tr>\n",
    "    <td>Station 1</td><td>(Value 1 + Value 3,2)</td>\n",
    "  </tr>\n",
    "  <tr>\n",
    "    <td>Station 2</td><td>(Value 2 + Value 4,2)</td>\n",
    "  </tr>\n",
    "    <tr>\n",
    "    <td>Station 3</td><td>(Value 5,1)</td>\n",
    "  </tr>\n",
    "  <tr>\n",
    "    <td>...</td><td>...</td>\n",
    "  </tr>\n",
    "</table>\n",
    "<p>"
   ]
  },
  {
   "cell_type": "markdown",
   "metadata": {},
   "source": [
    "Using this table, you can compute the average precipitation for each station by dividing the summation of the values by the corresponding count.\n",
    "\n",
    "Run the next code cell to create `weatherPrecpCountByKey`. The outcome is the equivalent to what you see in Table 2."
   ]
  },
  {
   "cell_type": "code",
   "execution_count": 11,
   "metadata": {},
   "outputs": [],
   "source": [
    "# x[0] is the station\n",
    "# x[3] is the precipitation value\n",
    "weatherPrecpCountByKey = weatherPrecp.map(lambda x : (x[0], (int(x[3]), 1)))"
   ]
  },
  {
   "cell_type": "markdown",
   "metadata": {},
   "source": [
    "The same Python lambda function notation is used to pass a function into the mapping function which transforms `weatherPrecp` into the new RDD. \n",
    "\n",
    "To confirm that the mapping produced the expected results, run the next cell:"
   ]
  },
  {
   "cell_type": "code",
   "execution_count": 12,
   "metadata": {},
   "outputs": [
    {
     "data": {
      "text/plain": [
       "(u'US1FLSL0019', (173, 1))"
      ]
     },
     "execution_count": 12,
     "metadata": {},
     "output_type": "execute_result"
    }
   ],
   "source": [
    "weatherPrecpCountByKey.first()"
   ]
  },
  {
   "cell_type": "markdown",
   "metadata": {},
   "source": [
    "### Calculate the total precipitation by weather station\n",
    "\n",
    "To calculate the total precipitation by weather station, sum (reduce) the precipitation amounts and total readings for every station. Use the `reduceByKey` function for this purpose."
   ]
  },
  {
   "cell_type": "code",
   "execution_count": 13,
   "metadata": {
    "collapsed": true
   },
   "outputs": [],
   "source": [
    "weatherPrecpAddByKey = weatherPrecpCountByKey.reduceByKey(lambda v1,v2 : (v1[0]+v2[0], v1[1]+v2[1]))"
   ]
  },
  {
   "cell_type": "markdown",
   "metadata": {},
   "source": [
    "Using the `first` function, you can inspect the precipitation values and read the totals for the first station ID. Note that this operation might take some time to complete as the whole chain of RDDs that you created are reinstantiated."
   ]
  },
  {
   "cell_type": "code",
   "execution_count": 14,
   "metadata": {},
   "outputs": [
    {
     "data": {
      "text/plain": [
       "(u'SP000060010', (2911, 365))"
      ]
     },
     "execution_count": 14,
     "metadata": {},
     "output_type": "execute_result"
    }
   ],
   "source": [
    "weatherPrecpAddByKey.first()"
   ]
  },
  {
   "cell_type": "markdown",
   "metadata": {},
   "source": [
    "### Compute the average values per station\n",
    "\n",
    "Now that you have transformed the data into the format you need it in, you can finally compute the average precipitation values per weather station. You create the `weatherAverages` RDD by mapping the `weatherPrecpAddByKey` RDD through a function that divides the precipitation total by the total number of readings."
   ]
  },
  {
   "cell_type": "code",
   "execution_count": 15,
   "metadata": {
    "collapsed": true
   },
   "outputs": [],
   "source": [
    "weatherAverages = weatherPrecpAddByKey.map(lambda k: (k[0], k[1][0] / float(k[1][1] ) ) )"
   ]
  },
  {
   "cell_type": "code",
   "execution_count": 16,
   "metadata": {},
   "outputs": [
    {
     "data": {
      "text/plain": [
       "(u'SP000060010', 7.975342465753425)"
      ]
     },
     "execution_count": 16,
     "metadata": {},
     "output_type": "execute_result"
    }
   ],
   "source": [
    "weatherAverages.first()"
   ]
  },
  {
   "cell_type": "markdown",
   "metadata": {},
   "source": [
    "Now print the first ten stations and their average precipitation values. The station ID is the sort order in the `top` function because it appears first in the tuple (station ID, average precipitation) in the RDD."
   ]
  },
  {
   "cell_type": "code",
   "execution_count": 17,
   "metadata": {},
   "outputs": [
    {
     "name": "stdout",
     "output_type": "stream",
     "text": [
      "Station ZI000067983 had average precipitations of 43.362637\n",
      "Station ZI000067975 had average precipitations of 42.397260\n",
      "Station ZI000067775 had average precipitations of 98.833333\n",
      "Station ZA000067743 had average precipitations of 170.142857\n",
      "Station WZ004455110 had average precipitations of 57.678899\n",
      "Station WQW00041606 had average precipitations of 29.680628\n",
      "Station WFM00091754 had average precipitations of 70.784768\n",
      "Station WF000917530 had average precipitations of 87.988669\n",
      "Station WA012084750 had average precipitations of 81.787879\n",
      "Station WA010517310 had average precipitations of 14.275862\n"
     ]
    }
   ],
   "source": [
    "for pair in weatherAverages.top(10):\n",
    "    print \"Station %s had average precipitations of %f\" % (pair[0],pair[1])"
   ]
  },
  {
   "cell_type": "markdown",
   "metadata": {},
   "source": [
    "If you want to output the ten weather stations with the highest average precipitation, you need to reverse the order of the tuple to (average precipitation, station ID). You can do this with a `map` function that switches the pair order."
   ]
  },
  {
   "cell_type": "code",
   "execution_count": 18,
   "metadata": {
    "scrolled": true
   },
   "outputs": [
    {
     "name": "stdout",
     "output_type": "stream",
     "text": [
      "Station US1TXLR0005 had average precipitations of 1996.000000\n",
      "Station US1TXHND002 had average precipitations of 1842.000000\n",
      "Station US1TXWM0106 had average precipitations of 1768.000000\n",
      "Station US1TXCMR017 had average precipitations of 1765.000000\n",
      "Station US1FLBW0047 had average precipitations of 1740.000000\n",
      "Station US1TXBND040 had average precipitations of 1715.000000\n",
      "Station US1SDMH0043 had average precipitations of 1702.000000\n",
      "Station US1IAPK0065 had average precipitations of 1394.000000\n",
      "Station IDM00096237 had average precipitations of 1161.000000\n",
      "Station US1TXSM0014 had average precipitations of 1122.500000\n"
     ]
    }
   ],
   "source": [
    "precTop10=[]\n",
    "stationsTop10=[]\n",
    "for pair in weatherAverages.map(lambda (x,y) : (y,x)).top(10):\n",
    "    precTop10.append(pair[0])\n",
    "    stationsTop10.append(pair[1])\n",
    "    print \"Station %s had average precipitations of %f\" % (pair[1],pair[0])"
   ]
  },
  {
   "cell_type": "markdown",
   "metadata": {},
   "source": [
    "Plot your results."
   ]
  },
  {
   "cell_type": "code",
   "execution_count": 19,
   "metadata": {},
   "outputs": [
    {
     "data": {
      "image/png": "[encoded data removed]",
      "text/plain": [
       "<matplotlib.figure.Figure at 0x7fbd819ed2d0>"
      ]
     },
     "metadata": {},
     "output_type": "display_data"
    }
   ],
   "source": [
    "%matplotlib inline\n",
    "import numpy as np\n",
    "import matplotlib.pyplot as plt\n",
    "\n",
    "N = 10\n",
    "index = np.arange(N)  \n",
    "bar_width = 0.5\n",
    "\n",
    "plt.bar(index, precTop10, bar_width,\n",
    "                 color='b')\n",
    "plt.xlabel('Stations')\n",
    "plt.ylabel('Precipitations')\n",
    "plt.title('10 stations with the highest average precipitation')\n",
    "plt.xticks(index + bar_width, stationsTop10, rotation=90)\n",
    "plt.show()"
   ]
  },
  {
   "cell_type": "markdown",
   "metadata": {},
   "source": [
    "<a id=\"use_spark_sql\"></a>\n",
    "## Use Spark SQL\n",
    "\n",
    "`Spark SQL` lets you query structured data, for example, data in a relational table and can be a very powerful tool for performing complex aggregations.\n",
    "\n",
    "To create a relational table that you can query using `Spark SQL` and fill it with snowfall data, you'll use the `Row` class from the `pyspark.sql` package. You will use every line in the `weatherSnow` RDD to create a row object. Each of the row's attributes will be used to access the value of each column."
   ]
  },
  {
   "cell_type": "markdown",
   "metadata": {},
   "source": [
    "To filter the weather data to show only those weather stations that contain the keyword SNOW, you need to reduce the data set to lines with SNOW in the third column. To do this, run the following commands:"
   ]
  },
  {
   "cell_type": "code",
   "execution_count": 20,
   "metadata": {},
   "outputs": [
    {
     "data": {
      "text/plain": [
       "4269955"
      ]
     },
     "execution_count": 20,
     "metadata": {},
     "output_type": "execute_result"
    }
   ],
   "source": [
    "weatherSnow = weatherParse.filter(lambda x: x[2]==\"SNOW\")\n",
    "weatherSnow.count()"
   ]
  },
  {
   "cell_type": "markdown",
   "metadata": {},
   "source": [
    "The next commands convert each line of the `weatherSnow` RDD into a row object, infer and apply a schema to an RDD of row objects, and register the table name `snow2015`."
   ]
  },
  {
   "cell_type": "code",
   "execution_count": 21,
   "metadata": {
    "collapsed": true
   },
   "outputs": [],
   "source": [
    "from pyspark.sql import SQLContext, Row\n",
    "from datetime import datetime\n",
    "\n",
    "# instantiate SQLContext object\n",
    "sqlContext = SQLContext(sc)\n",
    "# Convert each line of snowWeather RDD into a Row object\n",
    "snowRows= weatherSnow.map(lambda p: Row(station=p[0], month=datetime.strptime(p[1], '%Y%m%d').month, date=datetime.strptime(p[1], '%Y%m%d').day,metric=p[2], value=int(p[3])))\n",
    "# Apply Row schema\n",
    "snowSchema = sqlContext.createDataFrame(snowRows)\n",
    "# Register 'snow2015' table with 5 columns: station, month, date, metric, and value\n",
    "snowSchema.registerTempTable(\"snow2015\")\n",
    "sqlContext.cacheTable(\"snow2015\")"
   ]
  },
  {
   "cell_type": "markdown",
   "metadata": {},
   "source": [
    "### Compare the number of snow days between two stations\n",
    "\n",
    "In this section, you'll calculate the number of snow days for each month of the year at the `US10chey021` \n",
    "and `USW00094985` weather stations. With that information, you'll plot a bar chart to compare the number of snow days for each month at the two stations."
   ]
  },
  {
   "cell_type": "markdown",
   "metadata": {},
   "source": [
    "First, find out on how many days of every month it snowed at the `US10chey021` weather station:"
   ]
  },
  {
   "cell_type": "code",
   "execution_count": 22,
   "metadata": {
    "collapsed": true
   },
   "outputs": [],
   "source": [
    "snow_US10chey021 = sqlContext.sql(\"SELECT month, COUNT(*) AS snowdays FROM snow2015 WHERE station='US10chey021' GROUP BY month ORDER BY month\").collect()"
   ]
  },
  {
   "cell_type": "code",
   "execution_count": 23,
   "metadata": {},
   "outputs": [
    {
     "name": "stdout",
     "output_type": "stream",
     "text": [
      "[31, 27, 31, 30, 31, 30, 31, 31, 30, 31, 27, 25]\n"
     ]
    }
   ],
   "source": [
    "US10chey021_snowdays_y=[0] * 12\n",
    "for row in snow_US10chey021:\n",
    "    US10chey021_snowdays_y[row.month - 1]=row.snowdays\n",
    "    \n",
    "print US10chey021_snowdays_y"
   ]
  },
  {
   "cell_type": "markdown",
   "metadata": {},
   "source": [
    "Next, find out how many days of every month it snowed at the `USW00094985` weather station and plot the results:"
   ]
  },
  {
   "cell_type": "code",
   "execution_count": 24,
   "metadata": {
    "collapsed": true
   },
   "outputs": [],
   "source": [
    "snow_USW00094985 = sqlContext.sql(\"SELECT  month, COUNT(*) AS snowdays FROM snow2015 WHERE station='USW00094985' GROUP BY month ORDER BY month\").collect()"
   ]
  },
  {
   "cell_type": "code",
   "execution_count": 25,
   "metadata": {},
   "outputs": [
    {
     "name": "stdout",
     "output_type": "stream",
     "text": [
      "[31, 28, 31, 30, 30, 30, 31, 30, 30, 31, 30, 31]\n"
     ]
    }
   ],
   "source": [
    "USW00094985_snowdays_y=[0] * 12\n",
    "for row in snow_USW00094985:\n",
    "    USW00094985_snowdays_y[row.month -1]=row.snowdays\n",
    "    \n",
    "print USW00094985_snowdays_y"
   ]
  },
  {
   "cell_type": "code",
   "execution_count": 26,
   "metadata": {},
   "outputs": [
    {
     "data": {
      "image/png": "[encoded data removed]",
      "text/plain": [
       "<matplotlib.figure.Figure at 0x7fbd6ba177d0>"
      ]
     },
     "metadata": {},
     "output_type": "display_data"
    }
   ],
   "source": [
    "%matplotlib inline\n",
    "import matplotlib\n",
    "import numpy as np\n",
    "import matplotlib.pyplot as plt\n",
    "\n",
    "N=12\n",
    "ind=np.arange(N)\n",
    "width = 0.35\n",
    "pUS10chey021 = plt.bar(ind, US10chey021_snowdays_y, width, color='g', label='US10chey021')\n",
    "pUSW00094985 = plt.bar(ind+width, USW00094985_snowdays_y, width, color='y', label='USW00094985')\n",
    "\n",
    "plt.ylabel('SNOW DAYS')\n",
    "plt.xlabel('MONTH')\n",
    "plt.title('Snow Days in 2015 at Stations US10chey021 vs. USW00094985')\n",
    "plt.xticks(ind+width, ('Jan', 'Feb', 'Mar', 'Apr', 'May', 'Jun', 'Jul', 'Aug', 'Sep', 'Oct', 'Nov', 'Dec'))\n",
    "plt.legend()\n",
    "\n",
    "plt.show()"
   ]
  },
  {
   "cell_type": "markdown",
   "metadata": {},
   "source": [
    "### Determine the number of snow days at each US weather station\n",
    "To determine how many snow days there were at each of the US weather stations in 2015, run the following command to query the `snow2015` table, using the `COUNT(*)` function to get the total snow days. The table is sorted by station name and limited to only 100 stations."
   ]
  },
  {
   "cell_type": "code",
   "execution_count": 27,
   "metadata": {
    "collapsed": true
   },
   "outputs": [],
   "source": [
    "snowStations = sqlContext.sql(\"SELECT  station, COUNT(*) AS snowdays FROM snow2015 WHERE station LIKE 'US%' GROUP BY station ORDER BY station LIMIT 100\")"
   ]
  },
  {
   "cell_type": "markdown",
   "metadata": {},
   "source": [
    "Now print the first 5 rows of the `snowStations` table, including the station name and number of snow days at that station:"
   ]
  },
  {
   "cell_type": "code",
   "execution_count": 28,
   "metadata": {},
   "outputs": [
    {
     "data": {
      "text/plain": [
       "[Row(station=u'US10adam001', snowdays=79),\n",
       " Row(station=u'US10adam002', snowdays=192),\n",
       " Row(station=u'US10adam004', snowdays=353),\n",
       " Row(station=u'US10adam006', snowdays=58),\n",
       " Row(station=u'US10adam007', snowdays=36)]"
      ]
     },
     "execution_count": 28,
     "metadata": {},
     "output_type": "execute_result"
    }
   ],
   "source": [
    "snowStations.head(5)"
   ]
  },
  {
   "cell_type": "markdown",
   "metadata": {},
   "source": [
    "### Save the query results into a new table"
   ]
  },
  {
   "cell_type": "markdown",
   "metadata": {},
   "source": [
    "In this step, you will save the query result of the above `SELECT` query in a new table called `snowdays_2015`. The new table has two columns: STATION (name of station) and SNOWDAYS (number of snow days at the station). "
   ]
  },
  {
   "cell_type": "code",
   "execution_count": 29,
   "metadata": {
    "collapsed": true
   },
   "outputs": [],
   "source": [
    "sqlContext.registerDataFrameAsTable(snowStations, \"snowdays_2015\")"
   ]
  },
  {
   "cell_type": "markdown",
   "metadata": {},
   "source": [
    "Output the five stations with the highest number of snow days in 2015:"
   ]
  },
  {
   "cell_type": "code",
   "execution_count": 30,
   "metadata": {},
   "outputs": [
    {
     "name": "stdout",
     "output_type": "stream",
     "text": [
      "Row(station=u'US10adam056', snowdays=361)\n",
      "Row(station=u'US10buff036', snowdays=360)\n",
      "Row(station=u'US10adam051', snowdays=355)\n",
      "Row(station=u'US10adam004', snowdays=353)\n",
      "Row(station=u'US10adam032', snowdays=352)\n"
     ]
    }
   ],
   "source": [
    "snowStations_new = sqlContext.sql(\"SELECT station, snowdays FROM snowdays_2015 ORDER BY snowdays DESC LIMIT 5\").collect()\n",
    "for row in snowStations_new:\n",
    "    print row"
   ]
  },
  {
   "cell_type": "markdown",
   "metadata": {},
   "source": [
    "### Identify the stations with the same number of snow days in 2015\n",
    "\n",
    "In this section, you'll identify the stations that had the same number of snow days in 2015. First, you need to query the table `snowdays_2015` again. \n",
    "\n",
    "Then, by using the `map` function, you'll transform each row into a key-value pair where the key is the number of snow days and the value is the station name.\n",
    "\n",
    "Next, you'll apply the `reduceByKey` function to each pair, and the value of those pairs that have the same key are concatenated. As a result, the RDD contains the number of snow days, and the list of all stations that have the same number of snow days.\n",
    "\n",
    "The `for` loop prints the number of snow days, and the list of stations that have that number of snow days in 2015."
   ]
  },
  {
   "cell_type": "code",
   "execution_count": 31,
   "metadata": {},
   "outputs": [
    {
     "name": "stdout",
     "output_type": "stream",
     "text": [
      "Snow days:128 Stations:US10butl008\n",
      "Snow days:64 Stations:US10chas025,US10cher016\n",
      "Snow days:3 Stations:US10cher019\n",
      "Snow days:135 Stations:US10chas034\n",
      "Snow days:8 Stations:US10chas009\n",
      "Snow days:300 Stations:US10buff008\n",
      "Snow days:141 Stations:US10cass011\n",
      "Snow days:15 Stations:US10bann007\n",
      "Snow days:17 Stations:US10chas027\n",
      "Snow days:147 Stations:US10ceda006\n",
      "Snow days:90 Stations:US10boon010\n",
      "Snow days:69 Stations:US10buff007,US10chas023\n",
      "Snow days:26 Stations:US10chas032\n",
      "Snow days:335 Stations:US10box_013,US10buff002\n",
      "Snow days:29 Stations:US10adam013\n",
      "Snow days:30 Stations:US10box_007\n",
      "Snow days:31 Stations:US10box_020,US10buff039,US10chas021,US10chas035\n",
      "Snow days:32 Stations:US10chas019\n",
      "Snow days:161 Stations:US10buff004,US10chas001\n",
      "Snow days:34 Stations:US10chas013\n",
      "Snow days:36 Stations:US10adam007,US10box_009\n",
      "Snow days:37 Stations:US10chas033,US10cher013\n",
      "Snow days:66 Stations:US10cher018\n",
      "Snow days:40 Stations:US10adam012\n",
      "Snow days:41 Stations:US10adam017,US10adam024,US10ceda015\n",
      "Snow days:42 Stations:US10buff025\n",
      "Snow days:43 Stations:US10ceda026\n",
      "Snow days:44 Stations:US10ceda001\n",
      "Snow days:45 Stations:US10cher009\n",
      "Snow days:49 Stations:US10adam035\n",
      "Snow days:306 Stations:US10butl011\n",
      "Snow days:115 Stations:US10box_023\n",
      "Snow days:52 Stations:US10box_008\n",
      "Snow days:54 Stations:US10adam046,US10cher005\n",
      "Snow days:56 Stations:US10bann009\n",
      "Snow days:180 Stations:US10box_024\n",
      "Snow days:58 Stations:US10adam006\n",
      "Snow days:287 Stations:US10buff006\n",
      "Snow days:60 Stations:US10brow008\n",
      "Snow days:61 Stations:US10boon002\n",
      "Snow days:63 Stations:US10chas029\n",
      "Snow days:192 Stations:US10adam002\n",
      "Snow days:194 Stations:US10chas003\n",
      "Snow days:71 Stations:US10ante003\n",
      "Snow days:324 Stations:US10boon005\n",
      "Snow days:325 Stations:US10ceda013\n",
      "Snow days:33 Stations:US10bann005\n",
      "Snow days:328 Stations:US10chas002\n",
      "Snow days:73 Stations:US10adam010\n",
      "Snow days:75 Stations:US10adam008\n",
      "Snow days:333 Stations:US10adam022\n",
      "Snow days:79 Stations:US10adam001,US10blai004\n",
      "Snow days:81 Stations:US10blai012,US10burt002,US10chas011\n",
      "Snow days:82 Stations:US10chas016\n",
      "Snow days:339 Stations:US10ceda002\n",
      "Snow days:84 Stations:US10box_004\n",
      "Snow days:85 Stations:US10adam036\n",
      "Snow days:343 Stations:US10cass001\n",
      "Snow days:88 Stations:US10chas012\n",
      "Snow days:83 Stations:US10adam034,US10ceda017\n",
      "Snow days:346 Stations:US10ceda005\n",
      "Snow days:91 Stations:US10cher024\n",
      "Snow days:314 Stations:US10box_001\n",
      "Snow days:222 Stations:US10box_014\n",
      "Snow days:182 Stations:US10cass005\n",
      "Snow days:352 Stations:US10adam032\n",
      "Snow days:353 Stations:US10adam004\n",
      "Snow days:50 Stations:US10adam029,US10chas017\n",
      "Snow days:101 Stations:US10buff034,US10ceda009\n",
      "Snow days:360 Stations:US10buff036\n",
      "Snow days:361 Stations:US10adam056\n",
      "Snow days:111 Stations:US10butl020\n",
      "Snow days:229 Stations:US10adam019\n",
      "Snow days:59 Stations:US10adam045\n",
      "Snow days:19 Stations:US10cher004\n",
      "Snow days:355 Stations:US10adam051\n",
      "Snow days:89 Stations:US10butl005\n",
      "Snow days:72 Stations:US10ceda020\n",
      "Snow days:212 Stations:US10box_030,US10cass010,US10chas036\n",
      "Snow days:351 Stations:US10chas028\n"
     ]
    }
   ],
   "source": [
    "snowdays_100 = sqlContext.sql(\"SELECT station, snowdays FROM snowdays_2015\")\n",
    "snowday_stations=snowdays_100.map(lambda x:  (x.snowdays,x.station)).reduceByKey(lambda x, y: x + ',' + y)\n",
    "for snowday in snowday_stations.collect():\n",
    "    print 'Snow days:' + str(snowday[0]) + ' Stations:' + str(snowday[1])"
   ]
  },
  {
   "cell_type": "markdown",
   "metadata": {},
   "source": [
    "<a id=\"save\"></a>\n",
    "## Save results in Object Storage\n",
    "\n",
    "In this section, you'll save the `snowStations` DataFrame, which is the query result of the `snow2015` table for 100 US weather stations in Object Storage. Each row contains the name of the weather station and the number of snow days at that station.\n",
    "\n",
    "The data will be saved in [Apache Parquet](https://parquet.apache.org/documentation/latest/) file format and in regular text file format. Apache Parquet file format saves data as columns.\n",
    "\n",
    "Each project you create has a container in your object storage. The name of the container is the same as the project name, minus any blank spaces. You can see the name of the container on the **Settings** page of the project. Change the string `CONTAINER` in this cell to the name of your container:"
   ]
  },
  {
   "cell_type": "code",
   "execution_count": 32,
   "metadata": {},
   "outputs": [
    {
     "ename": "Py4JJavaError",
     "evalue": "An error occurred while calling o344.parquet.\n: Invalid Response: Method HEAD on https://dal.objectstorage.service.open.networklayer.com/v1/AUTH_d49853da350f47ac85559bb77fabad12/CONTAINER/ failed, status code: 403, status line: HTTP/1.1 403 Forbidden  HEAD https://dal.objectstorage.service.open.networklayer.com/v1/AUTH_d49853da350f47ac85559bb77fabad12/CONTAINER/ => 403\n\tat org.apache.hadoop.fs.swift.http.SwiftRestClient.buildException(SwiftRestClient.java:1863)\n\tat org.apache.hadoop.fs.swift.http.SwiftRestClient.perform(SwiftRestClient.java:1764)\n\tat org.apache.hadoop.fs.swift.http.SwiftRestClient.headRequest(SwiftRestClient.java:1164)\n\tat org.apache.hadoop.fs.swift.http.SwiftRestClient.createContainer(SwiftRestClient.java:1612)\n\tat org.apache.hadoop.fs.swift.http.SwiftRestClient.createDefaultContainer(SwiftRestClient.java:1597)\n\tat org.apache.hadoop.fs.swift.http.SwiftRestClient.access$2000(SwiftRestClient.java:105)\n\tat org.apache.hadoop.fs.swift.http.SwiftRestClient$AuthenticationPost.extractResult(SwiftRestClient.java:1322)\n\tat org.apache.hadoop.fs.swift.http.SwiftRestClient$AuthenticationPost.extractResult(SwiftRestClient.java:1250)\n\tat org.apache.hadoop.fs.swift.http.SwiftRestClient.perform(SwiftRestClient.java:1768)\n\tat org.apache.hadoop.fs.swift.http.SwiftRestClient.authenticate(SwiftRestClient.java:1238)\n\tat org.apache.hadoop.fs.swift.http.SwiftRestClient.authIfNeeded(SwiftRestClient.java:1656)\n\tat org.apache.hadoop.fs.swift.http.SwiftRestClient.preRemoteCommand(SwiftRestClient.java:1672)\n\tat org.apache.hadoop.fs.swift.http.SwiftRestClient.headRequest(SwiftRestClient.java:1163)\n\tat org.apache.hadoop.fs.swift.snative.SwiftNativeFileSystemStore.stat(SwiftNativeFileSystemStore.java:269)\n\tat org.apache.hadoop.fs.swift.snative.SwiftNativeFileSystemStore.getObjectMetadata(SwiftNativeFileSystemStore.java:214)\n\tat org.apache.hadoop.fs.swift.snative.SwiftNativeFileSystemStore.getObjectMetadata(SwiftNativeFileSystemStore.java:182)\n\tat org.apache.hadoop.fs.swift.snative.SwiftNativeFileSystem.getFileStatus(SwiftNativeFileSystem.java:184)\n\tat org.apache.hadoop.fs.FileSystem.exists(FileSystem.java:1400)\n\tat org.apache.spark.sql.execution.datasources.InsertIntoHadoopFsRelation.run(InsertIntoHadoopFsRelation.scala:73)\n\tat org.apache.spark.sql.execution.ExecutedCommand.sideEffectResult$lzycompute(commands.scala:58)\n\tat org.apache.spark.sql.execution.ExecutedCommand.sideEffectResult(commands.scala:56)\n\tat org.apache.spark.sql.execution.ExecutedCommand.doExecute(commands.scala:70)\n\tat org.apache.spark.sql.execution.SparkPlan$$anonfun$execute$5.apply(SparkPlan.scala:132)\n\tat org.apache.spark.sql.execution.SparkPlan$$anonfun$execute$5.apply(SparkPlan.scala:130)\n\tat org.apache.spark.rdd.RDDOperationScope$.withScope(RDDOperationScope.scala:150)\n\tat org.apache.spark.sql.execution.SparkPlan.execute(SparkPlan.scala:130)\n\tat org.apache.spark.sql.execution.QueryExecution.toRdd$lzycompute(QueryExecution.scala:55)\n\tat org.apache.spark.sql.execution.QueryExecution.toRdd(QueryExecution.scala:55)\n\tat org.apache.spark.sql.execution.datasources.ResolvedDataSource$.apply(ResolvedDataSource.scala:256)\n\tat org.apache.spark.sql.DataFrameWriter.save(DataFrameWriter.scala:148)\n\tat org.apache.spark.sql.DataFrameWriter.save(DataFrameWriter.scala:139)\n\tat org.apache.spark.sql.DataFrameWriter.parquet(DataFrameWriter.scala:329)\n\tat sun.reflect.NativeMethodAccessorImpl.invoke0(Native Method)\n\tat sun.reflect.NativeMethodAccessorImpl.invoke(NativeMethodAccessorImpl.java:95)\n\tat sun.reflect.DelegatingMethodAccessorImpl.invoke(DelegatingMethodAccessorImpl.java:55)\n\tat java.lang.reflect.Method.invoke(Method.java:507)\n\tat py4j.reflection.MethodInvoker.invoke(MethodInvoker.java:231)\n\tat py4j.reflection.ReflectionEngine.invoke(ReflectionEngine.java:381)\n\tat py4j.Gateway.invoke(Gateway.java:259)\n\tat py4j.commands.AbstractCommand.invokeMethod(AbstractCommand.java:133)\n\tat py4j.commands.CallCommand.execute(CallCommand.java:79)\n\tat py4j.GatewayConnection.run(GatewayConnection.java:209)\n\tat java.lang.Thread.run(Thread.java:785)\n",
     "output_type": "error",
     "traceback": [
      "\u001b[0;31m\u001b[0m",
      "\u001b[0;31mPy4JJavaError\u001b[0mTraceback (most recent call last)",
      "\u001b[0;32m<ipython-input-32-3dce853379fc>\u001b[0m in \u001b[0;36m<module>\u001b[0;34m()\u001b[0m\n\u001b[1;32m      1\u001b[0m \u001b[0;31m# Save as parquet file\u001b[0m\u001b[0;34m\u001b[0m\u001b[0;34m\u001b[0m\u001b[0m\n\u001b[0;32m----> 2\u001b[0;31m \u001b[0msnowStations\u001b[0m\u001b[0;34m.\u001b[0m\u001b[0mwrite\u001b[0m\u001b[0;34m.\u001b[0m\u001b[0mparquet\u001b[0m\u001b[0;34m(\u001b[0m\u001b[0;34m\"swift://CONTAINER.\"\u001b[0m \u001b[0;34m+\u001b[0m \u001b[0mname\u001b[0m \u001b[0;34m+\u001b[0m \u001b[0;34m\"/snowStations.parquet\"\u001b[0m\u001b[0;34m)\u001b[0m\u001b[0;34m\u001b[0m\u001b[0m\n\u001b[0m",
      "\u001b[0;32m/usr/local/src/spark160master/spark/python/pyspark/sql/readwriter.py\u001b[0m in \u001b[0;36mparquet\u001b[0;34m(self, path, mode, partitionBy)\u001b[0m\n\u001b[1;32m    459\u001b[0m         \u001b[0;32mif\u001b[0m \u001b[0mpartitionBy\u001b[0m \u001b[0;32mis\u001b[0m \u001b[0;32mnot\u001b[0m \u001b[0mNone\u001b[0m\u001b[0;34m:\u001b[0m\u001b[0;34m\u001b[0m\u001b[0m\n\u001b[1;32m    460\u001b[0m             \u001b[0mself\u001b[0m\u001b[0;34m.\u001b[0m\u001b[0mpartitionBy\u001b[0m\u001b[0;34m(\u001b[0m\u001b[0mpartitionBy\u001b[0m\u001b[0;34m)\u001b[0m\u001b[0;34m\u001b[0m\u001b[0m\n\u001b[0;32m--> 461\u001b[0;31m         \u001b[0mself\u001b[0m\u001b[0;34m.\u001b[0m\u001b[0m_jwrite\u001b[0m\u001b[0;34m.\u001b[0m\u001b[0mparquet\u001b[0m\u001b[0;34m(\u001b[0m\u001b[0mpath\u001b[0m\u001b[0;34m)\u001b[0m\u001b[0;34m\u001b[0m\u001b[0m\n\u001b[0m\u001b[1;32m    462\u001b[0m \u001b[0;34m\u001b[0m\u001b[0m\n\u001b[1;32m    463\u001b[0m     \u001b[0;34m@\u001b[0m\u001b[0msince\u001b[0m\u001b[0;34m(\u001b[0m\u001b[0;36m1.6\u001b[0m\u001b[0;34m)\u001b[0m\u001b[0;34m\u001b[0m\u001b[0m\n",
      "\u001b[0;32m/usr/local/src/spark160master/spark/python/lib/py4j-0.9-src.zip/py4j/java_gateway.py\u001b[0m in \u001b[0;36m__call__\u001b[0;34m(self, *args)\u001b[0m\n\u001b[1;32m    811\u001b[0m         \u001b[0manswer\u001b[0m \u001b[0;34m=\u001b[0m \u001b[0mself\u001b[0m\u001b[0;34m.\u001b[0m\u001b[0mgateway_client\u001b[0m\u001b[0;34m.\u001b[0m\u001b[0msend_command\u001b[0m\u001b[0;34m(\u001b[0m\u001b[0mcommand\u001b[0m\u001b[0;34m)\u001b[0m\u001b[0;34m\u001b[0m\u001b[0m\n\u001b[1;32m    812\u001b[0m         return_value = get_return_value(\n\u001b[0;32m--> 813\u001b[0;31m             answer, self.gateway_client, self.target_id, self.name)\n\u001b[0m\u001b[1;32m    814\u001b[0m \u001b[0;34m\u001b[0m\u001b[0m\n\u001b[1;32m    815\u001b[0m         \u001b[0;32mfor\u001b[0m \u001b[0mtemp_arg\u001b[0m \u001b[0;32min\u001b[0m \u001b[0mtemp_args\u001b[0m\u001b[0;34m:\u001b[0m\u001b[0;34m\u001b[0m\u001b[0m\n",
      "\u001b[0;32m/usr/local/src/spark160master/spark/python/pyspark/sql/utils.py\u001b[0m in \u001b[0;36mdeco\u001b[0;34m(*a, **kw)\u001b[0m\n\u001b[1;32m     43\u001b[0m     \u001b[0;32mdef\u001b[0m \u001b[0mdeco\u001b[0m\u001b[0;34m(\u001b[0m\u001b[0;34m*\u001b[0m\u001b[0ma\u001b[0m\u001b[0;34m,\u001b[0m \u001b[0;34m**\u001b[0m\u001b[0mkw\u001b[0m\u001b[0;34m)\u001b[0m\u001b[0;34m:\u001b[0m\u001b[0;34m\u001b[0m\u001b[0m\n\u001b[1;32m     44\u001b[0m         \u001b[0;32mtry\u001b[0m\u001b[0;34m:\u001b[0m\u001b[0;34m\u001b[0m\u001b[0m\n\u001b[0;32m---> 45\u001b[0;31m             \u001b[0;32mreturn\u001b[0m \u001b[0mf\u001b[0m\u001b[0;34m(\u001b[0m\u001b[0;34m*\u001b[0m\u001b[0ma\u001b[0m\u001b[0;34m,\u001b[0m \u001b[0;34m**\u001b[0m\u001b[0mkw\u001b[0m\u001b[0;34m)\u001b[0m\u001b[0;34m\u001b[0m\u001b[0m\n\u001b[0m\u001b[1;32m     46\u001b[0m         \u001b[0;32mexcept\u001b[0m \u001b[0mpy4j\u001b[0m\u001b[0;34m.\u001b[0m\u001b[0mprotocol\u001b[0m\u001b[0;34m.\u001b[0m\u001b[0mPy4JJavaError\u001b[0m \u001b[0;32mas\u001b[0m \u001b[0me\u001b[0m\u001b[0;34m:\u001b[0m\u001b[0;34m\u001b[0m\u001b[0m\n\u001b[1;32m     47\u001b[0m             \u001b[0ms\u001b[0m \u001b[0;34m=\u001b[0m \u001b[0me\u001b[0m\u001b[0;34m.\u001b[0m\u001b[0mjava_exception\u001b[0m\u001b[0;34m.\u001b[0m\u001b[0mtoString\u001b[0m\u001b[0;34m(\u001b[0m\u001b[0;34m)\u001b[0m\u001b[0;34m\u001b[0m\u001b[0m\n",
      "\u001b[0;32m/usr/local/src/spark160master/spark/python/lib/py4j-0.9-src.zip/py4j/protocol.py\u001b[0m in \u001b[0;36mget_return_value\u001b[0;34m(answer, gateway_client, target_id, name)\u001b[0m\n\u001b[1;32m    306\u001b[0m                 raise Py4JJavaError(\n\u001b[1;32m    307\u001b[0m                     \u001b[0;34m\"An error occurred while calling {0}{1}{2}.\\n\"\u001b[0m\u001b[0;34m.\u001b[0m\u001b[0;34m\u001b[0m\u001b[0m\n\u001b[0;32m--> 308\u001b[0;31m                     format(target_id, \".\", name), value)\n\u001b[0m\u001b[1;32m    309\u001b[0m             \u001b[0;32melse\u001b[0m\u001b[0;34m:\u001b[0m\u001b[0;34m\u001b[0m\u001b[0m\n\u001b[1;32m    310\u001b[0m                 raise Py4JError(\n",
      "\u001b[0;31mPy4JJavaError\u001b[0m: An error occurred while calling o344.parquet.\n: Invalid Response: Method HEAD on https://dal.objectstorage.service.open.networklayer.com/v1/AUTH_d49853da350f47ac85559bb77fabad12/CONTAINER/ failed, status code: 403, status line: HTTP/1.1 403 Forbidden  HEAD https://dal.objectstorage.service.open.networklayer.com/v1/AUTH_d49853da350f47ac85559bb77fabad12/CONTAINER/ => 403\n\tat org.apache.hadoop.fs.swift.http.SwiftRestClient.buildException(SwiftRestClient.java:1863)\n\tat org.apache.hadoop.fs.swift.http.SwiftRestClient.perform(SwiftRestClient.java:1764)\n\tat org.apache.hadoop.fs.swift.http.SwiftRestClient.headRequest(SwiftRestClient.java:1164)\n\tat org.apache.hadoop.fs.swift.http.SwiftRestClient.createContainer(SwiftRestClient.java:1612)\n\tat org.apache.hadoop.fs.swift.http.SwiftRestClient.createDefaultContainer(SwiftRestClient.java:1597)\n\tat org.apache.hadoop.fs.swift.http.SwiftRestClient.access$2000(SwiftRestClient.java:105)\n\tat org.apache.hadoop.fs.swift.http.SwiftRestClient$AuthenticationPost.extractResult(SwiftRestClient.java:1322)\n\tat org.apache.hadoop.fs.swift.http.SwiftRestClient$AuthenticationPost.extractResult(SwiftRestClient.java:1250)\n\tat org.apache.hadoop.fs.swift.http.SwiftRestClient.perform(SwiftRestClient.java:1768)\n\tat org.apache.hadoop.fs.swift.http.SwiftRestClient.authenticate(SwiftRestClient.java:1238)\n\tat org.apache.hadoop.fs.swift.http.SwiftRestClient.authIfNeeded(SwiftRestClient.java:1656)\n\tat org.apache.hadoop.fs.swift.http.SwiftRestClient.preRemoteCommand(SwiftRestClient.java:1672)\n\tat org.apache.hadoop.fs.swift.http.SwiftRestClient.headRequest(SwiftRestClient.java:1163)\n\tat org.apache.hadoop.fs.swift.snative.SwiftNativeFileSystemStore.stat(SwiftNativeFileSystemStore.java:269)\n\tat org.apache.hadoop.fs.swift.snative.SwiftNativeFileSystemStore.getObjectMetadata(SwiftNativeFileSystemStore.java:214)\n\tat org.apache.hadoop.fs.swift.snative.SwiftNativeFileSystemStore.getObjectMetadata(SwiftNativeFileSystemStore.java:182)\n\tat org.apache.hadoop.fs.swift.snative.SwiftNativeFileSystem.getFileStatus(SwiftNativeFileSystem.java:184)\n\tat org.apache.hadoop.fs.FileSystem.exists(FileSystem.java:1400)\n\tat org.apache.spark.sql.execution.datasources.InsertIntoHadoopFsRelation.run(InsertIntoHadoopFsRelation.scala:73)\n\tat org.apache.spark.sql.execution.ExecutedCommand.sideEffectResult$lzycompute(commands.scala:58)\n\tat org.apache.spark.sql.execution.ExecutedCommand.sideEffectResult(commands.scala:56)\n\tat org.apache.spark.sql.execution.ExecutedCommand.doExecute(commands.scala:70)\n\tat org.apache.spark.sql.execution.SparkPlan$$anonfun$execute$5.apply(SparkPlan.scala:132)\n\tat org.apache.spark.sql.execution.SparkPlan$$anonfun$execute$5.apply(SparkPlan.scala:130)\n\tat org.apache.spark.rdd.RDDOperationScope$.withScope(RDDOperationScope.scala:150)\n\tat org.apache.spark.sql.execution.SparkPlan.execute(SparkPlan.scala:130)\n\tat org.apache.spark.sql.execution.QueryExecution.toRdd$lzycompute(QueryExecution.scala:55)\n\tat org.apache.spark.sql.execution.QueryExecution.toRdd(QueryExecution.scala:55)\n\tat org.apache.spark.sql.execution.datasources.ResolvedDataSource$.apply(ResolvedDataSource.scala:256)\n\tat org.apache.spark.sql.DataFrameWriter.save(DataFrameWriter.scala:148)\n\tat org.apache.spark.sql.DataFrameWriter.save(DataFrameWriter.scala:139)\n\tat org.apache.spark.sql.DataFrameWriter.parquet(DataFrameWriter.scala:329)\n\tat sun.reflect.NativeMethodAccessorImpl.invoke0(Native Method)\n\tat sun.reflect.NativeMethodAccessorImpl.invoke(NativeMethodAccessorImpl.java:95)\n\tat sun.reflect.DelegatingMethodAccessorImpl.invoke(DelegatingMethodAccessorImpl.java:55)\n\tat java.lang.reflect.Method.invoke(Method.java:507)\n\tat py4j.reflection.MethodInvoker.invoke(MethodInvoker.java:231)\n\tat py4j.reflection.ReflectionEngine.invoke(ReflectionEngine.java:381)\n\tat py4j.Gateway.invoke(Gateway.java:259)\n\tat py4j.commands.AbstractCommand.invokeMethod(AbstractCommand.java:133)\n\tat py4j.commands.CallCommand.execute(CallCommand.java:79)\n\tat py4j.GatewayConnection.run(GatewayConnection.java:209)\n\tat java.lang.Thread.run(Thread.java:785)\n"
     ]
    }
   ],
   "source": [
    "# Save as parquet file\n",
    "snowStations.write.parquet(\"swift://CONTAINER.\" + name + \"/snowStations.parquet\")"
   ]
  },
  {
   "cell_type": "markdown",
   "metadata": {},
   "source": [
    "After the DataFrame has been saved to Object Storage, you will see a new data source called `snowStations.parquet` in the `Data` pane. \n",
    "\n",
    "Change the string `CONTAINER` in the following code cell as well and run the cell to read the parquet file and register it as a table again. Once the parquet file is read, you can use the domain-specific language to access the data. When you register the resulting DataFrame as TempTable, you can run SQL queries on the data as well."
   ]
  },
  {
   "cell_type": "code",
   "execution_count": 33,
   "metadata": {},
   "outputs": [
    {
     "ename": "Py4JJavaError",
     "evalue": "An error occurred while calling o390.parquet.\n: Invalid Response: Method HEAD on https://dal.objectstorage.service.open.networklayer.com/v1/AUTH_d49853da350f47ac85559bb77fabad12/CONTAINER/snowStations.parquet failed, status code: 403, status line: HTTP/1.1 403 Forbidden  HEAD https://dal.objectstorage.service.open.networklayer.com/v1/AUTH_d49853da350f47ac85559bb77fabad12/CONTAINER/snowStations.parquet => 403\n\tat org.apache.hadoop.fs.swift.http.SwiftRestClient.buildException(SwiftRestClient.java:1863)\n\tat org.apache.hadoop.fs.swift.http.SwiftRestClient.perform(SwiftRestClient.java:1764)\n\tat org.apache.hadoop.fs.swift.http.SwiftRestClient.headRequest(SwiftRestClient.java:1164)\n\tat org.apache.hadoop.fs.swift.snative.SwiftNativeFileSystemStore.stat(SwiftNativeFileSystemStore.java:269)\n\tat org.apache.hadoop.fs.swift.snative.SwiftNativeFileSystemStore.getObjectMetadata(SwiftNativeFileSystemStore.java:214)\n\tat org.apache.hadoop.fs.swift.snative.SwiftNativeFileSystemStore.getObjectMetadata(SwiftNativeFileSystemStore.java:182)\n\tat org.apache.hadoop.fs.swift.snative.SwiftNativeFileSystem.getFileStatus(SwiftNativeFileSystem.java:184)\n\tat org.apache.hadoop.fs.Globber.getFileStatus(Globber.java:57)\n\tat org.apache.hadoop.fs.Globber.glob(Globber.java:252)\n\tat org.apache.hadoop.fs.FileSystem.globStatus(FileSystem.java:1625)\n\tat org.apache.spark.sql.DataFrameReader$$anonfun$2.apply(DataFrameReader.scala:312)\n\tat org.apache.spark.sql.DataFrameReader$$anonfun$2.apply(DataFrameReader.scala:309)\n\tat scala.collection.TraversableLike$$anonfun$flatMap$1.apply(TraversableLike.scala:251)\n\tat scala.collection.TraversableLike$$anonfun$flatMap$1.apply(TraversableLike.scala:251)\n\tat scala.collection.Iterator$class.foreach(Iterator.scala:727)\n\tat scala.collection.AbstractIterator.foreach(Iterator.scala:1157)\n\tat scala.collection.IterableLike$class.foreach(IterableLike.scala:72)\n\tat scala.collection.AbstractIterable.foreach(Iterable.scala:54)\n\tat scala.collection.TraversableLike$class.flatMap(TraversableLike.scala:251)\n\tat scala.collection.AbstractTraversable.flatMap(Traversable.scala:105)\n\tat org.apache.spark.sql.DataFrameReader.parquet(DataFrameReader.scala:309)\n\tat sun.reflect.NativeMethodAccessorImpl.invoke0(Native Method)\n\tat sun.reflect.NativeMethodAccessorImpl.invoke(NativeMethodAccessorImpl.java:95)\n\tat sun.reflect.DelegatingMethodAccessorImpl.invoke(DelegatingMethodAccessorImpl.java:55)\n\tat java.lang.reflect.Method.invoke(Method.java:507)\n\tat py4j.reflection.MethodInvoker.invoke(MethodInvoker.java:231)\n\tat py4j.reflection.ReflectionEngine.invoke(ReflectionEngine.java:381)\n\tat py4j.Gateway.invoke(Gateway.java:259)\n\tat py4j.commands.AbstractCommand.invokeMethod(AbstractCommand.java:133)\n\tat py4j.commands.CallCommand.execute(CallCommand.java:79)\n\tat py4j.GatewayConnection.run(GatewayConnection.java:209)\n\tat java.lang.Thread.run(Thread.java:785)\n",
     "output_type": "error",
     "traceback": [
      "\u001b[0;31m\u001b[0m",
      "\u001b[0;31mPy4JJavaError\u001b[0mTraceback (most recent call last)",
      "\u001b[0;32m<ipython-input-33-ec3cd86f4b30>\u001b[0m in \u001b[0;36m<module>\u001b[0;34m()\u001b[0m\n\u001b[0;32m----> 1\u001b[0;31m \u001b[0mparquetFile\u001b[0m \u001b[0;34m=\u001b[0m \u001b[0msqlContext\u001b[0m\u001b[0;34m.\u001b[0m\u001b[0mread\u001b[0m\u001b[0;34m.\u001b[0m\u001b[0mparquet\u001b[0m\u001b[0;34m(\u001b[0m\u001b[0;34m\"swift://CONTAINER.\"\u001b[0m \u001b[0;34m+\u001b[0m \u001b[0mname\u001b[0m \u001b[0;34m+\u001b[0m \u001b[0;34m\"/snowStations.parquet\"\u001b[0m\u001b[0;34m)\u001b[0m\u001b[0;34m\u001b[0m\u001b[0m\n\u001b[0m\u001b[1;32m      2\u001b[0m \u001b[0mparquetFile\u001b[0m\u001b[0;34m.\u001b[0m\u001b[0mregisterTempTable\u001b[0m\u001b[0;34m(\u001b[0m\u001b[0;34m\"snow_from_parquet\"\u001b[0m\u001b[0;34m)\u001b[0m\u001b[0;34m\u001b[0m\u001b[0m\n",
      "\u001b[0;32m/usr/local/src/spark160master/spark/python/pyspark/sql/readwriter.py\u001b[0m in \u001b[0;36mparquet\u001b[0;34m(self, *paths)\u001b[0m\n\u001b[1;32m    203\u001b[0m         \u001b[0;34m[\u001b[0m\u001b[0;34m(\u001b[0m\u001b[0;34m'name'\u001b[0m\u001b[0;34m,\u001b[0m \u001b[0;34m'string'\u001b[0m\u001b[0;34m)\u001b[0m\u001b[0;34m,\u001b[0m \u001b[0;34m(\u001b[0m\u001b[0;34m'year'\u001b[0m\u001b[0;34m,\u001b[0m \u001b[0;34m'int'\u001b[0m\u001b[0;34m)\u001b[0m\u001b[0;34m,\u001b[0m \u001b[0;34m(\u001b[0m\u001b[0;34m'month'\u001b[0m\u001b[0;34m,\u001b[0m \u001b[0;34m'int'\u001b[0m\u001b[0;34m)\u001b[0m\u001b[0;34m,\u001b[0m \u001b[0;34m(\u001b[0m\u001b[0;34m'day'\u001b[0m\u001b[0;34m,\u001b[0m \u001b[0;34m'int'\u001b[0m\u001b[0;34m)\u001b[0m\u001b[0;34m]\u001b[0m\u001b[0;34m\u001b[0m\u001b[0m\n\u001b[1;32m    204\u001b[0m         \"\"\"\n\u001b[0;32m--> 205\u001b[0;31m         \u001b[0;32mreturn\u001b[0m \u001b[0mself\u001b[0m\u001b[0;34m.\u001b[0m\u001b[0m_df\u001b[0m\u001b[0;34m(\u001b[0m\u001b[0mself\u001b[0m\u001b[0;34m.\u001b[0m\u001b[0m_jreader\u001b[0m\u001b[0;34m.\u001b[0m\u001b[0mparquet\u001b[0m\u001b[0;34m(\u001b[0m\u001b[0m_to_seq\u001b[0m\u001b[0;34m(\u001b[0m\u001b[0mself\u001b[0m\u001b[0;34m.\u001b[0m\u001b[0m_sqlContext\u001b[0m\u001b[0;34m.\u001b[0m\u001b[0m_sc\u001b[0m\u001b[0;34m,\u001b[0m \u001b[0mpaths\u001b[0m\u001b[0;34m)\u001b[0m\u001b[0;34m)\u001b[0m\u001b[0;34m)\u001b[0m\u001b[0;34m\u001b[0m\u001b[0m\n\u001b[0m\u001b[1;32m    206\u001b[0m \u001b[0;34m\u001b[0m\u001b[0m\n\u001b[1;32m    207\u001b[0m     \u001b[0;34m@\u001b[0m\u001b[0mignore_unicode_prefix\u001b[0m\u001b[0;34m\u001b[0m\u001b[0m\n",
      "\u001b[0;32m/usr/local/src/spark160master/spark/python/lib/py4j-0.9-src.zip/py4j/java_gateway.py\u001b[0m in \u001b[0;36m__call__\u001b[0;34m(self, *args)\u001b[0m\n\u001b[1;32m    811\u001b[0m         \u001b[0manswer\u001b[0m \u001b[0;34m=\u001b[0m \u001b[0mself\u001b[0m\u001b[0;34m.\u001b[0m\u001b[0mgateway_client\u001b[0m\u001b[0;34m.\u001b[0m\u001b[0msend_command\u001b[0m\u001b[0;34m(\u001b[0m\u001b[0mcommand\u001b[0m\u001b[0;34m)\u001b[0m\u001b[0;34m\u001b[0m\u001b[0m\n\u001b[1;32m    812\u001b[0m         return_value = get_return_value(\n\u001b[0;32m--> 813\u001b[0;31m             answer, self.gateway_client, self.target_id, self.name)\n\u001b[0m\u001b[1;32m    814\u001b[0m \u001b[0;34m\u001b[0m\u001b[0m\n\u001b[1;32m    815\u001b[0m         \u001b[0;32mfor\u001b[0m \u001b[0mtemp_arg\u001b[0m \u001b[0;32min\u001b[0m \u001b[0mtemp_args\u001b[0m\u001b[0;34m:\u001b[0m\u001b[0;34m\u001b[0m\u001b[0m\n",
      "\u001b[0;32m/usr/local/src/spark160master/spark/python/pyspark/sql/utils.py\u001b[0m in \u001b[0;36mdeco\u001b[0;34m(*a, **kw)\u001b[0m\n\u001b[1;32m     43\u001b[0m     \u001b[0;32mdef\u001b[0m \u001b[0mdeco\u001b[0m\u001b[0;34m(\u001b[0m\u001b[0;34m*\u001b[0m\u001b[0ma\u001b[0m\u001b[0;34m,\u001b[0m \u001b[0;34m**\u001b[0m\u001b[0mkw\u001b[0m\u001b[0;34m)\u001b[0m\u001b[0;34m:\u001b[0m\u001b[0;34m\u001b[0m\u001b[0m\n\u001b[1;32m     44\u001b[0m         \u001b[0;32mtry\u001b[0m\u001b[0;34m:\u001b[0m\u001b[0;34m\u001b[0m\u001b[0m\n\u001b[0;32m---> 45\u001b[0;31m             \u001b[0;32mreturn\u001b[0m \u001b[0mf\u001b[0m\u001b[0;34m(\u001b[0m\u001b[0;34m*\u001b[0m\u001b[0ma\u001b[0m\u001b[0;34m,\u001b[0m \u001b[0;34m**\u001b[0m\u001b[0mkw\u001b[0m\u001b[0;34m)\u001b[0m\u001b[0;34m\u001b[0m\u001b[0m\n\u001b[0m\u001b[1;32m     46\u001b[0m         \u001b[0;32mexcept\u001b[0m \u001b[0mpy4j\u001b[0m\u001b[0;34m.\u001b[0m\u001b[0mprotocol\u001b[0m\u001b[0;34m.\u001b[0m\u001b[0mPy4JJavaError\u001b[0m \u001b[0;32mas\u001b[0m \u001b[0me\u001b[0m\u001b[0;34m:\u001b[0m\u001b[0;34m\u001b[0m\u001b[0m\n\u001b[1;32m     47\u001b[0m             \u001b[0ms\u001b[0m \u001b[0;34m=\u001b[0m \u001b[0me\u001b[0m\u001b[0;34m.\u001b[0m\u001b[0mjava_exception\u001b[0m\u001b[0;34m.\u001b[0m\u001b[0mtoString\u001b[0m\u001b[0;34m(\u001b[0m\u001b[0;34m)\u001b[0m\u001b[0;34m\u001b[0m\u001b[0m\n",
      "\u001b[0;32m/usr/local/src/spark160master/spark/python/lib/py4j-0.9-src.zip/py4j/protocol.py\u001b[0m in \u001b[0;36mget_return_value\u001b[0;34m(answer, gateway_client, target_id, name)\u001b[0m\n\u001b[1;32m    306\u001b[0m                 raise Py4JJavaError(\n\u001b[1;32m    307\u001b[0m                     \u001b[0;34m\"An error occurred while calling {0}{1}{2}.\\n\"\u001b[0m\u001b[0;34m.\u001b[0m\u001b[0;34m\u001b[0m\u001b[0m\n\u001b[0;32m--> 308\u001b[0;31m                     format(target_id, \".\", name), value)\n\u001b[0m\u001b[1;32m    309\u001b[0m             \u001b[0;32melse\u001b[0m\u001b[0;34m:\u001b[0m\u001b[0;34m\u001b[0m\u001b[0m\n\u001b[1;32m    310\u001b[0m                 raise Py4JError(\n",
      "\u001b[0;31mPy4JJavaError\u001b[0m: An error occurred while calling o390.parquet.\n: Invalid Response: Method HEAD on https://dal.objectstorage.service.open.networklayer.com/v1/AUTH_d49853da350f47ac85559bb77fabad12/CONTAINER/snowStations.parquet failed, status code: 403, status line: HTTP/1.1 403 Forbidden  HEAD https://dal.objectstorage.service.open.networklayer.com/v1/AUTH_d49853da350f47ac85559bb77fabad12/CONTAINER/snowStations.parquet => 403\n\tat org.apache.hadoop.fs.swift.http.SwiftRestClient.buildException(SwiftRestClient.java:1863)\n\tat org.apache.hadoop.fs.swift.http.SwiftRestClient.perform(SwiftRestClient.java:1764)\n\tat org.apache.hadoop.fs.swift.http.SwiftRestClient.headRequest(SwiftRestClient.java:1164)\n\tat org.apache.hadoop.fs.swift.snative.SwiftNativeFileSystemStore.stat(SwiftNativeFileSystemStore.java:269)\n\tat org.apache.hadoop.fs.swift.snative.SwiftNativeFileSystemStore.getObjectMetadata(SwiftNativeFileSystemStore.java:214)\n\tat org.apache.hadoop.fs.swift.snative.SwiftNativeFileSystemStore.getObjectMetadata(SwiftNativeFileSystemStore.java:182)\n\tat org.apache.hadoop.fs.swift.snative.SwiftNativeFileSystem.getFileStatus(SwiftNativeFileSystem.java:184)\n\tat org.apache.hadoop.fs.Globber.getFileStatus(Globber.java:57)\n\tat org.apache.hadoop.fs.Globber.glob(Globber.java:252)\n\tat org.apache.hadoop.fs.FileSystem.globStatus(FileSystem.java:1625)\n\tat org.apache.spark.sql.DataFrameReader$$anonfun$2.apply(DataFrameReader.scala:312)\n\tat org.apache.spark.sql.DataFrameReader$$anonfun$2.apply(DataFrameReader.scala:309)\n\tat scala.collection.TraversableLike$$anonfun$flatMap$1.apply(TraversableLike.scala:251)\n\tat scala.collection.TraversableLike$$anonfun$flatMap$1.apply(TraversableLike.scala:251)\n\tat scala.collection.Iterator$class.foreach(Iterator.scala:727)\n\tat scala.collection.AbstractIterator.foreach(Iterator.scala:1157)\n\tat scala.collection.IterableLike$class.foreach(IterableLike.scala:72)\n\tat scala.collection.AbstractIterable.foreach(Iterable.scala:54)\n\tat scala.collection.TraversableLike$class.flatMap(TraversableLike.scala:251)\n\tat scala.collection.AbstractTraversable.flatMap(Traversable.scala:105)\n\tat org.apache.spark.sql.DataFrameReader.parquet(DataFrameReader.scala:309)\n\tat sun.reflect.NativeMethodAccessorImpl.invoke0(Native Method)\n\tat sun.reflect.NativeMethodAccessorImpl.invoke(NativeMethodAccessorImpl.java:95)\n\tat sun.reflect.DelegatingMethodAccessorImpl.invoke(DelegatingMethodAccessorImpl.java:55)\n\tat java.lang.reflect.Method.invoke(Method.java:507)\n\tat py4j.reflection.MethodInvoker.invoke(MethodInvoker.java:231)\n\tat py4j.reflection.ReflectionEngine.invoke(ReflectionEngine.java:381)\n\tat py4j.Gateway.invoke(Gateway.java:259)\n\tat py4j.commands.AbstractCommand.invokeMethod(AbstractCommand.java:133)\n\tat py4j.commands.CallCommand.execute(CallCommand.java:79)\n\tat py4j.GatewayConnection.run(GatewayConnection.java:209)\n\tat java.lang.Thread.run(Thread.java:785)\n"
     ]
    }
   ],
   "source": [
    "parquetFile = sqlContext.read.parquet(\"swift://CONTAINER.\" + name + \"/snowStations.parquet\")\n",
    "parquetFile.registerTempTable(\"snow_from_parquet\")"
   ]
  },
  {
   "cell_type": "markdown",
   "metadata": {},
   "source": [
    "<a id=\"summary\"></a>\n",
    "## Summary\n",
    "\n",
    "In this sample, you learned how to use Apache Spark, how to use PySpark, the Python API for Spark and the matplotlib plotting library. You also learned how to load data from Object Storage as an RDD, how to define Spark data schemas, and how to save intermediate results in parquet format."
   ]
  },
  {
   "cell_type": "markdown",
   "metadata": {
    "collapsed": true
   },
   "source": [
    "<a id=\"resources\"></a>\n",
    "### Resources\n",
    "[Apache Spark 1.6.0 Programming Guide](https://spark.apache.org/docs/1.6.0/programming-guide.html)\n",
    "\n",
    "[Apache Spark 1.6.0 SQL and DataFrames](https://spark.apache.org/docs/1.6.0/sql-programming-guide.html)\n",
    "\n",
    "[PySpark 1.6.0 - Python API for Spark](https://spark.apache.org/docs/1.6.0/api/python/)\n",
    "\n"
   ]
  },
  {
   "cell_type": "markdown",
   "metadata": {},
   "source": [
    "### Author\n",
    "Sven Hafeneger is a member of the Data Science Experience development team at IBM Analytics in Germany. He holds a M.Sc. in Bioinformatics and is passionate about data analysis, machine learning and the Python ecosystem for data science. "
   ]
  },
  {
   "cell_type": "code",
   "execution_count": null,
   "metadata": {
    "collapsed": true
   },
   "outputs": [],
   "source": []
  }
 ],
 "metadata": {
  "kernelspec": {
   "display_name": "Python 2 with Spark 1.6 (Unsupported)",
   "language": "python",
   "name": "python2"
  },
  "language_info": {
   "codemirror_mode": {
    "name": "ipython",
    "version": 2
   },
   "file_extension": ".py",
   "mimetype": "text/x-python",
   "name": "python",
   "nbconvert_exporter": "python",
   "pygments_lexer": "ipython2",
   "version": "2.7.11"
  },
  "name": "cds_ax_spark.ipynb"
 },
 "nbformat": 4,
 "nbformat_minor": 1
}
